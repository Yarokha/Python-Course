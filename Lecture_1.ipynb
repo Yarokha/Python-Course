{
 "cells": [
  {
   "cell_type": "markdown",
   "metadata": {},
   "source": [
    "# Lecture 1. Standard Input/Output"
   ]
  },
  {
   "cell_type": "code",
   "execution_count": 1,
   "metadata": {},
   "outputs": [
    {
     "name": "stdout",
     "output_type": "stream",
     "text": [
      "Hello world!!!\n"
     ]
    }
   ],
   "source": [
    "print(\"Hello world!!!\")"
   ]
  },
  {
   "cell_type": "code",
   "execution_count": 2,
   "metadata": {},
   "outputs": [
    {
     "name": "stdout",
     "output_type": "stream",
     "text": [
      "5\n"
     ]
    }
   ],
   "source": [
    "a = 5\n",
    "print(a)"
   ]
  },
  {
   "cell_type": "code",
   "execution_count": null,
   "metadata": {},
   "outputs": [
    {
     "name": "stdout",
     "output_type": "stream",
     "text": [
      "3 6\n"
     ]
    }
   ],
   "source": [
    "a = 3\n",
    "b = 6\n",
    "print(a, b)"
   ]
  },
  {
   "cell_type": "code",
   "execution_count": 4,
   "metadata": {},
   "outputs": [
    {
     "name": "stdout",
     "output_type": "stream",
     "text": [
      "Values a and b: 3 6\n"
     ]
    }
   ],
   "source": [
    "a = 3\n",
    "b = 6\n",
    "print(\"Values a and b:\", a, b)"
   ]
  },
  {
   "cell_type": "markdown",
   "metadata": {},
   "source": [
    "## f-string"
   ]
  },
  {
   "cell_type": "code",
   "execution_count": 5,
   "metadata": {},
   "outputs": [
    {
     "name": "stdout",
     "output_type": "stream",
     "text": [
      " New label Hello\n"
     ]
    }
   ],
   "source": [
    "abc = \"Hello\"\n",
    "print(f\" New label {abc}\")"
   ]
  },
  {
   "cell_type": "code",
   "execution_count": 6,
   "metadata": {},
   "outputs": [
    {
     "name": "stdout",
     "output_type": "stream",
     "text": [
      " New label 5.325884166\n"
     ]
    }
   ],
   "source": [
    "abc = 5.325884166\n",
    "print(f\" New label {abc}\")"
   ]
  },
  {
   "cell_type": "code",
   "execution_count": 2,
   "metadata": {},
   "outputs": [
    {
     "name": "stdout",
     "output_type": "stream",
     "text": [
      "newline: 10\n"
     ]
    }
   ],
   "source": [
    "print(f\"newline: {ord('\\n')}\")"
   ]
  },
  {
   "cell_type": "code",
   "execution_count": 3,
   "metadata": {},
   "outputs": [
    {
     "name": "stdout",
     "output_type": "stream",
     "text": [
      "Id of Harsh is 112\n"
     ]
    }
   ],
   "source": [
    "Geek = { 'Id': 112,\n",
    "         'Name': 'Harsh'}\n",
    "\n",
    "print(f\"Id of {Geek[\"Name\"]} is {Geek[\"Id\"]}\")"
   ]
  },
  {
   "cell_type": "code",
   "execution_count": 7,
   "metadata": {},
   "outputs": [
    {
     "name": "stdout",
     "output_type": "stream",
     "text": [
      " New label 5.326\n"
     ]
    }
   ],
   "source": [
    "abc = 5.325884166\n",
    "print(f\" New label {abc:.3f}\")"
   ]
  },
  {
   "cell_type": "code",
   "execution_count": 8,
   "metadata": {},
   "outputs": [
    {
     "name": "stdout",
     "output_type": "stream",
     "text": [
      "Values a={a} and b={b}\n"
     ]
    }
   ],
   "source": [
    "a = 3\n",
    "b = 6\n",
    "print(\"Values a={a} and b={b}\")"
   ]
  },
  {
   "cell_type": "code",
   "execution_count": 9,
   "metadata": {},
   "outputs": [
    {
     "name": "stdout",
     "output_type": "stream",
     "text": [
      "Values a = 3 and b = 6\n"
     ]
    }
   ],
   "source": [
    "a = 3\n",
    "b = 6\n",
    "print(f\"Values a = {a} and b = {b}\")"
   ]
  },
  {
   "cell_type": "code",
   "execution_count": 10,
   "metadata": {},
   "outputs": [
    {
     "name": "stdout",
     "output_type": "stream",
     "text": [
      "[1, 2, 3, 4, 5]\n"
     ]
    }
   ],
   "source": [
    "a = [1, 2, 3, 4, 5]\n",
    "print(a)"
   ]
  },
  {
   "cell_type": "code",
   "execution_count": 11,
   "metadata": {},
   "outputs": [
    {
     "name": "stdout",
     "output_type": "stream",
     "text": [
      "1 2 3 4 5\n"
     ]
    }
   ],
   "source": [
    "print(*a)"
   ]
  },
  {
   "cell_type": "code",
   "execution_count": 12,
   "metadata": {},
   "outputs": [
    {
     "name": "stdout",
     "output_type": "stream",
     "text": [
      "Values:\n",
      "a = 3\n",
      "b = 6\n"
     ]
    }
   ],
   "source": [
    "# New line \n",
    "a = 3\n",
    "b = 6\n",
    "print(f\"Values:\\na = {a}\\nb = {b}\")"
   ]
  },
  {
   "cell_type": "code",
   "execution_count": 13,
   "metadata": {},
   "outputs": [
    {
     "name": "stdout",
     "output_type": "stream",
     "text": [
      "Values:\n",
      "\ta = 3\n",
      "\tb = 6\n"
     ]
    }
   ],
   "source": [
    "# New line and tabulation\n",
    "a = 3\n",
    "b = 6\n",
    "print(f\"Values:\\n\\ta = {a}\\n\\tb = {b}\")"
   ]
  },
  {
   "cell_type": "code",
   "execution_count": 14,
   "metadata": {},
   "outputs": [
    {
     "name": "stdout",
     "output_type": "stream",
     "text": [
      "Values:\n",
      "\ta = 3\n",
      "\t\tb = 6\n"
     ]
    }
   ],
   "source": [
    "# New line and tabulation\n",
    "a = 3\n",
    "b = 6\n",
    "print(f\"Values:\\n\\ta = {a}\\n\\t\\tb = {b}\")"
   ]
  },
  {
   "cell_type": "code",
   "execution_count": 15,
   "metadata": {},
   "outputs": [],
   "source": [
    "a = input()"
   ]
  },
  {
   "cell_type": "code",
   "execution_count": 16,
   "metadata": {},
   "outputs": [
    {
     "name": "stdout",
     "output_type": "stream",
     "text": [
      " is  year(s) old\n"
     ]
    }
   ],
   "source": [
    "name = input(\"What's your name?\")\n",
    "age = input(f\"How old are you, {name}?\")\n",
    "\n",
    "print(f\"{name} is {age} year(s) old\")"
   ]
  },
  {
   "cell_type": "code",
   "execution_count": 17,
   "metadata": {},
   "outputs": [
    {
     "name": "stdout",
     "output_type": "stream",
     "text": [
      "a = , but the type is <class 'str'>\n"
     ]
    }
   ],
   "source": [
    "#input for number(s)\n",
    "#integer\n",
    "a = input(\"Enter integer number:\")\n",
    "\n",
    "print(f\"a = {a}, but the type is {type(a)}\")"
   ]
  },
  {
   "cell_type": "code",
   "execution_count": 18,
   "metadata": {},
   "outputs": [
    {
     "ename": "ValueError",
     "evalue": "invalid literal for int() with base 10: ''",
     "output_type": "error",
     "traceback": [
      "\u001b[1;31m---------------------------------------------------------------------------\u001b[0m",
      "\u001b[1;31mValueError\u001b[0m                                Traceback (most recent call last)",
      "Cell \u001b[1;32mIn[18], line 2\u001b[0m\n\u001b[0;32m      1\u001b[0m \u001b[38;5;66;03m# correct input for integer\u001b[39;00m\n\u001b[1;32m----> 2\u001b[0m a \u001b[38;5;241m=\u001b[39m \u001b[38;5;28;43mint\u001b[39;49m\u001b[43m(\u001b[49m\u001b[38;5;28;43minput\u001b[39;49m\u001b[43m(\u001b[49m\u001b[38;5;124;43m\"\u001b[39;49m\u001b[38;5;124;43mEnter integer number:\u001b[39;49m\u001b[38;5;124;43m\"\u001b[39;49m\u001b[43m)\u001b[49m\u001b[43m)\u001b[49m\n\u001b[0;32m      4\u001b[0m \u001b[38;5;28mprint\u001b[39m(\u001b[38;5;124mf\u001b[39m\u001b[38;5;124m\"\u001b[39m\u001b[38;5;124ma = \u001b[39m\u001b[38;5;132;01m{\u001b[39;00ma\u001b[38;5;132;01m}\u001b[39;00m\u001b[38;5;124m, the type is \u001b[39m\u001b[38;5;132;01m{\u001b[39;00m\u001b[38;5;28mtype\u001b[39m(a)\u001b[38;5;132;01m}\u001b[39;00m\u001b[38;5;124m\"\u001b[39m)\n",
      "\u001b[1;31mValueError\u001b[0m: invalid literal for int() with base 10: ''"
     ]
    }
   ],
   "source": [
    "# correct input for integer\n",
    "a = int(input(\"Enter integer number:\"))\n",
    "\n",
    "print(f\"a = {a}, the type is {type(a)}\")"
   ]
  },
  {
   "cell_type": "code",
   "execution_count": null,
   "metadata": {},
   "outputs": [
    {
     "name": "stdout",
     "output_type": "stream",
     "text": [
      "a = 3.14, the type is <class 'float'>\n"
     ]
    }
   ],
   "source": [
    "# correct input for float\n",
    "a = float(input(\"Enter float number:\"))\n",
    "\n",
    "print(f\"a = {a}, the type is {type(a)}\")"
   ]
  },
  {
   "cell_type": "code",
   "execution_count": null,
   "metadata": {},
   "outputs": [
    {
     "ename": "ValueError",
     "evalue": "invalid literal for int() with base 10: '3 2 1'",
     "output_type": "error",
     "traceback": [
      "\u001b[1;31m---------------------------------------------------------------------------\u001b[0m",
      "\u001b[1;31mValueError\u001b[0m                                Traceback (most recent call last)",
      "Cell \u001b[1;32mIn[21], line 1\u001b[0m\n\u001b[1;32m----> 1\u001b[0m a \u001b[38;5;241m=\u001b[39m \u001b[38;5;28;43mint\u001b[39;49m\u001b[43m(\u001b[49m\u001b[38;5;28;43minput\u001b[39;49m\u001b[43m(\u001b[49m\u001b[38;5;124;43m\"\u001b[39;49m\u001b[38;5;124;43mEnter 3 integer numbers, separated by space:\u001b[39;49m\u001b[38;5;124;43m\"\u001b[39;49m\u001b[43m)\u001b[49m\u001b[43m)\u001b[49m\n",
      "\u001b[1;31mValueError\u001b[0m: invalid literal for int() with base 10: '3 2 1'"
     ]
    },
    {
     "ename": "",
     "evalue": "",
     "output_type": "error",
     "traceback": [
      "\u001b[1;31mThe Kernel crashed while executing code in the current cell or a previous cell. \n",
      "\u001b[1;31mPlease review the code in the cell(s) to identify a possible cause of the failure. \n",
      "\u001b[1;31mClick <a href='https://aka.ms/vscodeJupyterKernelCrash'>here</a> for more info. \n",
      "\u001b[1;31mView Jupyter <a href='command:jupyter.viewOutput'>log</a> for further details."
     ]
    }
   ],
   "source": [
    "# multiple input \n",
    "a = int(input(\"Enter 3 integer numbers, separated by space:\"))"
   ]
  },
  {
   "cell_type": "code",
   "execution_count": null,
   "metadata": {},
   "outputs": [
    {
     "ename": "ValueError",
     "evalue": "invalid literal for int() with base 10: '3 2 5'",
     "output_type": "error",
     "traceback": [
      "\u001b[1;31m---------------------------------------------------------------------------\u001b[0m",
      "\u001b[1;31mValueError\u001b[0m                                Traceback (most recent call last)",
      "Cell \u001b[1;32mIn[54], line 1\u001b[0m\n\u001b[1;32m----> 1\u001b[0m a, b, c \u001b[38;5;241m=\u001b[39m \u001b[38;5;28;43mint\u001b[39;49m\u001b[43m(\u001b[49m\u001b[38;5;28;43minput\u001b[39;49m\u001b[43m(\u001b[49m\u001b[38;5;124;43m\"\u001b[39;49m\u001b[38;5;124;43mEnter 3 integer numbers, separated by space:\u001b[39;49m\u001b[38;5;124;43m\"\u001b[39;49m\u001b[43m)\u001b[49m\u001b[43m)\u001b[49m\n",
      "\u001b[1;31mValueError\u001b[0m: invalid literal for int() with base 10: '3 2 5'"
     ]
    }
   ],
   "source": [
    "a, b, c = int(input(\"Enter 3 integer numbers, separated by space:\"))"
   ]
  },
  {
   "cell_type": "code",
   "execution_count": null,
   "metadata": {},
   "outputs": [
    {
     "ename": "TypeError",
     "evalue": "int() argument must be a string, a bytes-like object or a real number, not 'list'",
     "output_type": "error",
     "traceback": [
      "\u001b[1;31m---------------------------------------------------------------------------\u001b[0m",
      "\u001b[1;31mTypeError\u001b[0m                                 Traceback (most recent call last)",
      "Cell \u001b[1;32mIn[56], line 1\u001b[0m\n\u001b[1;32m----> 1\u001b[0m a, b, c \u001b[38;5;241m=\u001b[39m \u001b[38;5;28;43mint\u001b[39;49m\u001b[43m(\u001b[49m\u001b[38;5;28;43minput\u001b[39;49m\u001b[43m(\u001b[49m\u001b[38;5;124;43m\"\u001b[39;49m\u001b[38;5;124;43mEnter 3 integer numbers, separated by space:\u001b[39;49m\u001b[38;5;124;43m\"\u001b[39;49m\u001b[43m)\u001b[49m\u001b[38;5;241;43m.\u001b[39;49m\u001b[43msplit\u001b[49m\u001b[43m(\u001b[49m\u001b[43m)\u001b[49m\u001b[43m)\u001b[49m\n",
      "\u001b[1;31mTypeError\u001b[0m: int() argument must be a string, a bytes-like object or a real number, not 'list'"
     ]
    }
   ],
   "source": [
    "a, b, c = int(input(\"Enter 3 integer numbers, separated by space:\").split())"
   ]
  },
  {
   "cell_type": "code",
   "execution_count": 4,
   "metadata": {},
   "outputs": [
    {
     "name": "stdout",
     "output_type": "stream",
     "text": [
      "a = 3 - <class 'str'>\n",
      "b = 2 - <class 'str'>\n",
      "c = 1 - <class 'str'>\n"
     ]
    }
   ],
   "source": [
    "a, b, c = input(\"Enter 3 integer numbers, separated by space:\").split()\n",
    "print(f\"a = {a} - {type(a)}\")\n",
    "print(f\"b = {b} - {type(b)}\")\n",
    "print(f\"c = {c} - {type(c)}\")"
   ]
  },
  {
   "cell_type": "code",
   "execution_count": 2,
   "metadata": {},
   "outputs": [
    {
     "name": "stdout",
     "output_type": "stream",
     "text": [
      "a = 3 - <class 'int'>\n",
      "b = 2 - <class 'int'>\n",
      "c = 1 - <class 'int'>\n"
     ]
    }
   ],
   "source": [
    "a, b, c = map(int,input(\"Enter 3 integer numbers, separated by space:\").split())\n",
    "print(f\"a = {a} - {type(a)}\\nb = {b} - {type(b)}\\nc = {c} - {type(c)}\")"
   ]
  },
  {
   "cell_type": "code",
   "execution_count": 1,
   "metadata": {},
   "outputs": [
    {
     "name": "stdout",
     "output_type": "stream",
     "text": [
      "a = 1.0 - <class 'float'>\n",
      "b = 2.0 - <class 'float'>\n",
      "c = 3.0 - <class 'float'>\n"
     ]
    }
   ],
   "source": [
    "a, b, c = map(float,input(\"Enter 3 float numbers, separated by space:\").split())\n",
    "print(f\"a = {a} - {type(a)}\\nb = {b} - {type(b)}\\nc = {c} - {type(c)}\")"
   ]
  },
  {
   "cell_type": "code",
   "execution_count": null,
   "metadata": {},
   "outputs": [
    {
     "name": "stdout",
     "output_type": "stream",
     "text": [
      "a = <map object at 0x00000229CC8ADAB0> is <class 'map'>\n"
     ]
    }
   ],
   "source": [
    "# input to list\n",
    "a = map(float,input(\"Enter 3 float numbers, separated by space:\").split())\n",
    "print(f\"a = {a} is {type(a)}\") \n",
    "# a is not a list!"
   ]
  },
  {
   "cell_type": "code",
   "execution_count": null,
   "metadata": {},
   "outputs": [
    {
     "name": "stdout",
     "output_type": "stream",
     "text": [
      "a = [3.0, 2.0, 1.0] is <class 'list'>\n"
     ]
    }
   ],
   "source": [
    "# input to list\n",
    "a = list(map(float,input(\"Enter 3 float numbers, separated by space:\").split()))\n",
    "print(f\"a = {a} is {type(a)}\") "
   ]
  },
  {
   "cell_type": "code",
   "execution_count": null,
   "metadata": {},
   "outputs": [
    {
     "name": "stdout",
     "output_type": "stream",
     "text": [
      "1, 2, 3, 4\n"
     ]
    }
   ],
   "source": [
    "print(1, 2, 3, 4, sep=', ') # separator is \", \""
   ]
  },
  {
   "cell_type": "code",
   "execution_count": 16,
   "metadata": {},
   "outputs": [
    {
     "name": "stdout",
     "output_type": "stream",
     "text": [
      "1, 2, 3, 4\t5, 6, 7, 8\n"
     ]
    }
   ],
   "source": [
    "print(1, 2, 3, 4, sep=', ', end='\\t') # separator is \", \" and end is '\\t'\n",
    "print(5, 6, 7, 8, sep=', ') # separator is \", \" and end is '\\n' by default"
   ]
  },
  {
   "cell_type": "markdown",
   "metadata": {},
   "source": [
    "## Task #1.1 in class"
   ]
  },
  {
   "cell_type": "markdown",
   "metadata": {},
   "source": [
    "\n",
    "Write a small programm which create a person profile. \n",
    "Then print the data of in following way:\n",
    "\n",
    "Name: Lena\n",
    "\n",
    "Year: 2000\n",
    "\n",
    "Position: Researcher\n",
    "\n",
    "University: DOG University\n",
    "\n",
    "Faculty: Spitz Faculty\n",
    "\n",
    "Favorite animal: Pommy"
   ]
  },
  {
   "cell_type": "markdown",
   "metadata": {},
   "source": [
    "# File input/output"
   ]
  },
  {
   "cell_type": "markdown",
   "metadata": {},
   "source": [
    "```python\n",
    "file = open(path_to_file, mode)\n",
    "```\n",
    "Parameter `mode` takes the following parameters:  \n",
    "\n",
    "- `r`   - Open text file for reading. Raises an I/O error if the file does not exist. ***(DEFAULT OPTION)***\n",
    "\n",
    "- `r+`  - Open the file for reading and writing. Raises an I/O error if the file does not exist.\n",
    "\n",
    "- `w`  - Open the file for writing. Truncates the file if it already exists. Creates a new file if it does not exist.\n",
    "\n",
    "- `w+`   - Open the file for reading and writing. Truncates the file if it already exists. Creates a new file if it does not exist.\n",
    "\n",
    "- `a`  - Open the file for writing. The data being written will be inserted at the end of the file. Creates a new file if it does not exist.\n",
    "\n",
    "- `a+`   - Open the file for reading and writing. The data being written will be inserted at the end of the file. Creates a new file if it does not exist.\n",
    "\n",
    "- `rb`   - Open the file for reading in binary format. Raises an I/O error if the file does not exist.\n",
    "\n",
    "- `rb+`   - Open the file for reading and writing in binary format. Raises an I/O error if the file does not exist.\n",
    "\n",
    "- `wb`   - Open the file for writing in binary format. Truncates the file if it already exists. Creates a new file if it does not exist.\n",
    "\n",
    "- `wb+`   - Open the file for reading and writing in binary format. Truncates the file if it already exists. Creates a new file if it does not exist.\n",
    "\n",
    "- `ab`   - Open the file for appending in binary format. Inserts data at the end of the file. Creates a new file if it does not exist.\n",
    "\n",
    "- `ab+`   - Open the file for reading and appending in binary format. Inserts data at the end of the file. Creates a new file if it does not exist."
   ]
  },
  {
   "cell_type": "code",
   "execution_count": 33,
   "metadata": {},
   "outputs": [
    {
     "data": {
      "text/plain": [
       "'hello world!!!\\nhello world!!!\\nhello world!!!\\nhello world!!!\\n'"
      ]
     },
     "execution_count": 33,
     "metadata": {},
     "output_type": "execute_result"
    }
   ],
   "source": [
    "file = open(\"file.txt\")\n",
    "file.read()\n",
    "# file.close()"
   ]
  },
  {
   "cell_type": "code",
   "execution_count": 34,
   "metadata": {},
   "outputs": [
    {
     "name": "stdout",
     "output_type": "stream",
     "text": [
      "hello world!!!\n",
      "\n"
     ]
    }
   ],
   "source": [
    "file = open(\"file.txt\")\n",
    "print(file.readline())"
   ]
  },
  {
   "cell_type": "code",
   "execution_count": 35,
   "metadata": {},
   "outputs": [
    {
     "name": "stdout",
     "output_type": "stream",
     "text": [
      "False\n"
     ]
    }
   ],
   "source": [
    "print(file.writable())"
   ]
  },
  {
   "cell_type": "code",
   "execution_count": 36,
   "metadata": {},
   "outputs": [],
   "source": [
    "file.close()"
   ]
  },
  {
   "cell_type": "code",
   "execution_count": null,
   "metadata": {},
   "outputs": [],
   "source": [
    "output_file = open(\"output.txt\", 'w+')"
   ]
  },
  {
   "cell_type": "code",
   "execution_count": null,
   "metadata": {},
   "outputs": [
    {
     "data": {
      "text/plain": [
       "True"
      ]
     },
     "execution_count": 69,
     "metadata": {},
     "output_type": "execute_result"
    }
   ],
   "source": [
    "output_file.writable()"
   ]
  },
  {
   "cell_type": "code",
   "execution_count": null,
   "metadata": {},
   "outputs": [
    {
     "data": {
      "text/plain": [
       "6"
      ]
     },
     "execution_count": 70,
     "metadata": {},
     "output_type": "execute_result"
    }
   ],
   "source": [
    "output_file.write(\"Hello\\n\")"
   ]
  },
  {
   "cell_type": "code",
   "execution_count": null,
   "metadata": {},
   "outputs": [],
   "source": [
    "a = 5\n",
    "b = 3.14\n",
    "output_file.write(f\"{a} {b:.3}\\n\")\n",
    "\n",
    "\n",
    "a = 1\n",
    "b = 2\n",
    "output_file.write(f\"{a} {b}\\n\")\n",
    "\n",
    "output_file.close()"
   ]
  },
  {
   "cell_type": "code",
   "execution_count": 20,
   "metadata": {},
   "outputs": [],
   "source": [
    "output_file = open(\"output.txt\", 'r')"
   ]
  },
  {
   "cell_type": "code",
   "execution_count": null,
   "metadata": {},
   "outputs": [
    {
     "name": "stdout",
     "output_type": "stream",
     "text": [
      "Hello\n",
      "\n"
     ]
    }
   ],
   "source": [
    "s = output_file.readline()\n",
    "print(s)"
   ]
  },
  {
   "cell_type": "code",
   "execution_count": null,
   "metadata": {},
   "outputs": [
    {
     "name": "stdout",
     "output_type": "stream",
     "text": [
      "a = 5 - <class 'str'>, b = 3.14 - <class 'str'>\n"
     ]
    }
   ],
   "source": [
    "a, b = output_file.readline().split()\n",
    "print(f\"a = {a} - {type(a)}, b = {b} - {type(b)}\")\n"
   ]
  },
  {
   "cell_type": "code",
   "execution_count": null,
   "metadata": {},
   "outputs": [
    {
     "name": "stdout",
     "output_type": "stream",
     "text": [
      "a = 5 - <class 'int'>, b = 3.14 - <class 'float'>\n"
     ]
    }
   ],
   "source": [
    "a = int(a)\n",
    "b = float(b)\n",
    "print(f\"a = {a} - {type(a)}, b = {b} - {type(b)}\")"
   ]
  },
  {
   "cell_type": "code",
   "execution_count": null,
   "metadata": {},
   "outputs": [
    {
     "name": "stdout",
     "output_type": "stream",
     "text": [
      "a = 1 - <class 'int'>, b = 2 - <class 'int'>\n"
     ]
    }
   ],
   "source": [
    "a, b = map(int, output_file.readline().split())\n",
    "print(f\"a = {a} - {type(a)}, b = {b} - {type(b)}\")"
   ]
  },
  {
   "cell_type": "code",
   "execution_count": null,
   "metadata": {},
   "outputs": [],
   "source": [
    "output_file.close()"
   ]
  },
  {
   "cell_type": "markdown",
   "metadata": {},
   "source": [
    "Interesting contruction due to the combination of the thungs like open, read and close. 'With __ as __:' construction combines  open and close calls.\n",
    "\n",
    "```python\n",
    "with open('example.txt', 'r') as file:\n",
    "    content = file.read() \n",
    "    file.seek(0)\n",
    "```\n",
    "\n",
    "`file.seek(cookie, whence = 0)` - a function will transfer you to n bytes from whence (0 by default)"
   ]
  },
  {
   "cell_type": "code",
   "execution_count": 28,
   "metadata": {},
   "outputs": [
    {
     "name": "stdout",
     "output_type": "stream",
     "text": [
      "Hello\n",
      "\n"
     ]
    }
   ],
   "source": [
    "output_file = open(\"output.txt\", 'r')\n",
    "print(output_file.readline())"
   ]
  },
  {
   "cell_type": "code",
   "execution_count": 29,
   "metadata": {},
   "outputs": [
    {
     "name": "stdout",
     "output_type": "stream",
     "text": [
      "5 3.14\n",
      "\n"
     ]
    }
   ],
   "source": [
    "print(output_file.readline())"
   ]
  },
  {
   "cell_type": "code",
   "execution_count": 30,
   "metadata": {},
   "outputs": [
    {
     "name": "stdout",
     "output_type": "stream",
     "text": [
      "Hello\n",
      "\n"
     ]
    }
   ],
   "source": [
    "output_file.seek(0) #transfer to the begining of the file\n",
    "print(output_file.readline())"
   ]
  },
  {
   "cell_type": "code",
   "execution_count": 31,
   "metadata": {},
   "outputs": [],
   "source": [
    "output_file.close()"
   ]
  },
  {
   "cell_type": "markdown",
   "metadata": {},
   "source": [
    "## Task #1.2 in class"
   ]
  },
  {
   "cell_type": "markdown",
   "metadata": {},
   "source": [
    "Based on Task #1.1\n",
    "\n",
    "- Save questions in the file.\n",
    "- Read them and ask.\n",
    "- The answers save in the file in the same type as the output in Task #1.1"
   ]
  },
  {
   "cell_type": "markdown",
   "metadata": {},
   "source": []
  }
 ],
 "metadata": {
  "kernelspec": {
   "display_name": "Python 3",
   "language": "python",
   "name": "python3"
  },
  "language_info": {
   "codemirror_mode": {
    "name": "ipython",
    "version": 3
   },
   "file_extension": ".py",
   "mimetype": "text/x-python",
   "name": "python",
   "nbconvert_exporter": "python",
   "pygments_lexer": "ipython3",
   "version": "3.13.1"
  }
 },
 "nbformat": 4,
 "nbformat_minor": 2
}
