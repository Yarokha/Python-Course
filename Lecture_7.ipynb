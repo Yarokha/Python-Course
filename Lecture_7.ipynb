{
 "cells": [
  {
   "cell_type": "markdown",
   "metadata": {},
   "source": [
    "# Lecture 7. Introduction to OOP & Exceptions"
   ]
  },
  {
   "cell_type": "markdown",
   "metadata": {},
   "source": [
    "## 7.1 Class"
   ]
  },
  {
   "cell_type": "code",
   "execution_count": null,
   "metadata": {},
   "outputs": [],
   "source": [
    "class ClassName:\n",
    "\n",
    "    def __init__(self): # constructor\n",
    "        pass\n",
    "\n",
    "    def __str__(self): # return string with values for print using\n",
    "        pass\n",
    "\n",
    "    def __repr__(self): # return string with values for \"debuging\"\n",
    "        pass\n",
    "\n",
    "    # public:\n",
    "    def example_public(self):\n",
    "        pass\n",
    "\n",
    "    # private:\n",
    "    def __example_private(self):\n",
    "        pass"
   ]
  },
  {
   "cell_type": "code",
   "execution_count": null,
   "metadata": {},
   "outputs": [],
   "source": [
    "class MyClass:\n",
    "    \n",
    "    def __init__(self, a, b ): # constructor\n",
    "        self.a = a\n",
    "        self.b = b\n",
    "\n",
    "    def __str__(self): # return string with values for print using\n",
    "        return f\"a = {self.a}; b = {self.b}\"\n",
    "        # return \"a = \" + str(self.a) + \"; b = \" + str(self.b)\n",
    "\n",
    "    def __repr__(self):\n",
    "        return f\"a = {self.a}; b = {self.b}\""
   ]
  },
  {
   "cell_type": "code",
   "execution_count": 23,
   "metadata": {},
   "outputs": [
    {
     "name": "stdout",
     "output_type": "stream",
     "text": [
      "a = 3; b = 5\n"
     ]
    }
   ],
   "source": [
    "v_class = MyClass(3, 5)\n",
    "\n",
    "print(v_class)"
   ]
  },
  {
   "cell_type": "code",
   "execution_count": 24,
   "metadata": {},
   "outputs": [
    {
     "name": "stdout",
     "output_type": "stream",
     "text": [
      "3\n"
     ]
    }
   ],
   "source": [
    "print(v_class.a)"
   ]
  },
  {
   "cell_type": "markdown",
   "metadata": {},
   "source": [
    "## Magic methods of class"
   ]
  },
  {
   "cell_type": "markdown",
   "metadata": {},
   "source": [
    "### Comparison methods"
   ]
  },
  {
   "cell_type": "markdown",
   "metadata": {},
   "source": [
    "`__lt__(self, other)` — <\n",
    "\n",
    "`__le__(self, other)` — <=\n",
    "\n",
    "`__eq__(self, other)` — ==\n",
    "\n",
    "`__ne__(self, other)` — !=\n",
    "\n",
    "`__gt__(self, other)` — >\n",
    "\n",
    "`__ge__(self, other)` — >="
   ]
  },
  {
   "cell_type": "markdown",
   "metadata": {},
   "source": [
    "### Math methods"
   ]
  },
  {
   "cell_type": "markdown",
   "metadata": {},
   "source": [
    "`__add__(self, other)` — +\n",
    "\n",
    "`__sub__(self, other)` — -\n",
    "\n",
    "`__mul__(self, other)` — *\n",
    "\n",
    "`__matmul__(self, other)` — @\n",
    "\n",
    "`__truediv__(self, other)` — /\n",
    "\n",
    "`__floordiv__(self, other)` — //\n",
    "\n",
    "`__mod__(self, other)` — %\n",
    "\n",
    "`__divmod__(self, other)` — divmod(self, other)\n",
    "\n",
    "`__pow__(self, other)` — **\n",
    "\n",
    "`__lshift__(self, other)` — <<\n",
    "\n",
    "`__rshift__(self, other)` — >>\n",
    "\n",
    "`__and__(self, other)` — &\n",
    "\n",
    "`__xor__(self, other)` — ^\n",
    "\n",
    "`__or__(self, other)` — |"
   ]
  },
  {
   "cell_type": "code",
   "execution_count": 37,
   "metadata": {},
   "outputs": [],
   "source": [
    "class MyClassPrivate:\n",
    "    def __init__(self, a, b ): # constructor\n",
    "        self.__a = a\n",
    "        self.__b = b\n",
    "\n",
    "    def __str__(self): # return string with values for print using\n",
    "        return f\"a = {self.__a}; b = {self.__b}\"\n",
    "        # return \"a = \" + str(self.a) + \"; b = \" + str(self.b)"
   ]
  },
  {
   "cell_type": "code",
   "execution_count": 38,
   "metadata": {},
   "outputs": [
    {
     "name": "stdout",
     "output_type": "stream",
     "text": [
      "a = 3; b = 5\n"
     ]
    }
   ],
   "source": [
    "v_class = MyClassPrivate(3, 5)\n",
    "\n",
    "print(v_class)"
   ]
  },
  {
   "cell_type": "code",
   "execution_count": 41,
   "metadata": {},
   "outputs": [
    {
     "ename": "AttributeError",
     "evalue": "'MyClassPrivate' object has no attribute '__a'",
     "output_type": "error",
     "traceback": [
      "\u001b[1;31m---------------------------------------------------------------------------\u001b[0m",
      "\u001b[1;31mAttributeError\u001b[0m                            Traceback (most recent call last)",
      "Cell \u001b[1;32mIn[41], line 1\u001b[0m\n\u001b[1;32m----> 1\u001b[0m \u001b[38;5;28mprint\u001b[39m(\u001b[43mv_class\u001b[49m\u001b[38;5;241;43m.\u001b[39;49m\u001b[43m__a\u001b[49m) \u001b[38;5;66;03m# private object\u001b[39;00m\n",
      "\u001b[1;31mAttributeError\u001b[0m: 'MyClassPrivate' object has no attribute '__a'"
     ]
    }
   ],
   "source": [
    "print(v_class.__a) # private object"
   ]
  },
  {
   "cell_type": "code",
   "execution_count": 42,
   "metadata": {},
   "outputs": [
    {
     "data": {
      "text/plain": [
       "'a = 3; b = 5'"
      ]
     },
     "execution_count": 42,
     "metadata": {},
     "output_type": "execute_result"
    }
   ],
   "source": [
    "v_class.__str__() # if put __ also after then it become accessible"
   ]
  },
  {
   "cell_type": "code",
   "execution_count": 4,
   "metadata": {},
   "outputs": [],
   "source": [
    "class MyClass:\n",
    "    def __init__(self, a : int, b: int ): # constructor\n",
    "        self.__a = a\n",
    "        self.__b = b\n",
    "        self.__sum = self.__a + self.__b\n",
    "        self.sum_p = self.__a + self.__b # !!!dangerous!!!\n",
    "\n",
    "    def replace_a(self, a: int):\n",
    "        self.__init__(a, self.__b)\n",
    "\n",
    "    def replace_b(self, b: int):\n",
    "        self.__init__(self.__a, b)\n",
    "\n",
    "    # def replace_b(self, b: int):\n",
    "    #     self.__b = b\n",
    "    #     self.sum = self.__a + self.__b\n",
    "\n",
    "    def __str__(self): # return string with values for print using\n",
    "        return f\"(a = {self.__a}) + (b = {self.__b}) = {self.__sum}\" \n",
    "    \n",
    "    def sum(self):\n",
    "        return self.__sum\n"
   ]
  },
  {
   "cell_type": "code",
   "execution_count": 6,
   "metadata": {},
   "outputs": [
    {
     "name": "stdout",
     "output_type": "stream",
     "text": [
      "(a = 3) + (b = 5) = 8\n",
      "(a = 3) + (b = 0) = 3\n",
      "(a = 5) + (b = 0) = 5\n"
     ]
    }
   ],
   "source": [
    "c_val = MyClass(3, 5)\n",
    "print(c_val)\n",
    "c_val.replace_b(0)\n",
    "print(c_val)\n",
    "c_val.replace_a(5)\n",
    "print(c_val)"
   ]
  },
  {
   "cell_type": "code",
   "execution_count": 7,
   "metadata": {},
   "outputs": [],
   "source": [
    "c_val.sum_p = 0"
   ]
  },
  {
   "cell_type": "code",
   "execution_count": 8,
   "metadata": {},
   "outputs": [
    {
     "data": {
      "text/plain": [
       "5"
      ]
     },
     "execution_count": 8,
     "metadata": {},
     "output_type": "execute_result"
    }
   ],
   "source": [
    "c_val.sum()"
   ]
  },
  {
   "cell_type": "markdown",
   "metadata": {},
   "source": [
    "## 7.1.1  Polimorphism"
   ]
  },
  {
   "cell_type": "code",
   "execution_count": null,
   "metadata": {},
   "outputs": [],
   "source": [
    "class MyClassSum:\n",
    "    \n",
    "    def __init__(self, a, b):\n",
    "        self.__a = a\n",
    "        self.__b = b\n",
    "\n",
    "    def solve(self):\n",
    "        return self.__a + self.__b\n",
    "    \n",
    "\n",
    "class MyClassMult:\n",
    "\n",
    "    def __init__(self, a, b):\n",
    "        self.__a = a\n",
    "        self.__b = b\n",
    "\n",
    "    def solve(self):\n",
    "        return self.__a * self.__b"
   ]
  },
  {
   "cell_type": "code",
   "execution_count": null,
   "metadata": {},
   "outputs": [],
   "source": [
    "A = MyClassSum(4, 5)\n",
    "B = MyClassMult(4, 5)"
   ]
  },
  {
   "cell_type": "code",
   "execution_count": 63,
   "metadata": {},
   "outputs": [
    {
     "data": {
      "text/plain": [
       "9"
      ]
     },
     "execution_count": 63,
     "metadata": {},
     "output_type": "execute_result"
    }
   ],
   "source": [
    "A.solve()"
   ]
  },
  {
   "cell_type": "code",
   "execution_count": 64,
   "metadata": {},
   "outputs": [
    {
     "data": {
      "text/plain": [
       "20"
      ]
     },
     "execution_count": 64,
     "metadata": {},
     "output_type": "execute_result"
    }
   ],
   "source": [
    "B.solve()"
   ]
  },
  {
   "cell_type": "markdown",
   "metadata": {},
   "source": [
    "## 7.1.2 Inheritance"
   ]
  },
  {
   "cell_type": "code",
   "execution_count": 50,
   "metadata": {},
   "outputs": [],
   "source": [
    "class Person:\n",
    "    \n",
    "    def __init__(self, first_name:str, second_name:str, byear:int):\n",
    "        self.__fname = first_name\n",
    "        self.__sname = second_name\n",
    "        self.__byear = byear\n",
    "    \n",
    "    def __str__(self):\n",
    "        return f\"{self.__fname} {self.__sname} born in {self.__byear}.\"\n",
    "    \n",
    "    def get_name(self):\n",
    "        return self.__fname"
   ]
  },
  {
   "cell_type": "code",
   "execution_count": 75,
   "metadata": {},
   "outputs": [],
   "source": [
    "# NOT recommended\n",
    "class Student(Person):\n",
    "    \n",
    "    def __init__(self, first_name:str, second_name:str, byear:int, speciality: str):\n",
    "        super().__init__(first_name, second_name, byear)\n",
    "        self.__speciality = speciality\n",
    "    \n",
    "    def __str__(self):\n",
    "        return super().__str__() + f\" Now learnig {self.__speciality}\"\n",
    "        \n",
    "    def get_name(self):\n",
    "        return \"Student: \" + super().get_name()"
   ]
  },
  {
   "cell_type": "code",
   "execution_count": null,
   "metadata": {},
   "outputs": [],
   "source": [
    "class Student(Person):\n",
    "    \n",
    "    def __init__(self, first_name: str, second_name: str, byear: int, speciality: str):\n",
    "        Person.__init__(self, first_name, second_name, byear)\n",
    "        self.__speciality = speciality\n",
    "    \n",
    "    def __str__(self):\n",
    "        return Person.__str__(self) + f\" Now learnig {self.__speciality}\"\n",
    "    \n",
    "    def get_name(self):\n",
    "        return \"Student: \" + Person.get_name(self)"
   ]
  },
  {
   "cell_type": "code",
   "execution_count": 76,
   "metadata": {},
   "outputs": [],
   "source": [
    "S1 = Student(\"V\", \"Y\", 4, \"Physics\" )"
   ]
  },
  {
   "cell_type": "code",
   "execution_count": 77,
   "metadata": {},
   "outputs": [
    {
     "name": "stdout",
     "output_type": "stream",
     "text": [
      "V Y born in 4. Now learnig Physics\n"
     ]
    }
   ],
   "source": [
    "print(S1)"
   ]
  },
  {
   "cell_type": "code",
   "execution_count": 78,
   "metadata": {},
   "outputs": [
    {
     "data": {
      "text/plain": [
       "'Student: V'"
      ]
     },
     "execution_count": 78,
     "metadata": {},
     "output_type": "execute_result"
    }
   ],
   "source": [
    "S1.get_name()"
   ]
  },
  {
   "cell_type": "markdown",
   "metadata": {},
   "source": [
    "## 7.2 Exceptions"
   ]
  },
  {
   "cell_type": "code",
   "execution_count": 93,
   "metadata": {},
   "outputs": [
    {
     "ename": "ZeroDivisionError",
     "evalue": "division by zero",
     "output_type": "error",
     "traceback": [
      "\u001b[1;31m---------------------------------------------------------------------------\u001b[0m",
      "\u001b[1;31mZeroDivisionError\u001b[0m                         Traceback (most recent call last)",
      "Cell \u001b[1;32mIn[93], line 4\u001b[0m\n\u001b[0;32m      1\u001b[0m a \u001b[38;5;241m=\u001b[39m \u001b[38;5;241m3\u001b[39m\n\u001b[0;32m      2\u001b[0m b \u001b[38;5;241m=\u001b[39m \u001b[38;5;241m0\u001b[39m\n\u001b[1;32m----> 4\u001b[0m c \u001b[38;5;241m=\u001b[39m \u001b[43ma\u001b[49m\u001b[43m \u001b[49m\u001b[38;5;241;43m/\u001b[39;49m\u001b[43m \u001b[49m\u001b[43mb\u001b[49m\n",
      "\u001b[1;31mZeroDivisionError\u001b[0m: division by zero"
     ]
    }
   ],
   "source": [
    "a = 3\n",
    "b = 0\n",
    "\n",
    "c = a / b"
   ]
  },
  {
   "cell_type": "code",
   "execution_count": 94,
   "metadata": {},
   "outputs": [
    {
     "name": "stdout",
     "output_type": "stream",
     "text": [
      "Done! 3\n"
     ]
    }
   ],
   "source": [
    "try:\n",
    "    c = a / b\n",
    "except:\n",
    "    b = 1\n",
    "    c = a\n",
    "else:\n",
    "    print(\"OK!\")\n",
    "finally:\n",
    "    print(\"Done!\", c)"
   ]
  },
  {
   "cell_type": "markdown",
   "metadata": {},
   "source": [
    "The ```try``` block lets you test a block of code for errors.\n",
    "\n",
    "The ```except``` block lets you handle the error.\n",
    "\n",
    "The ```else``` block lets you execute code when there is no error.\n",
    "\n",
    "The ```finally``` block lets you execute code, regardless of the result of the try- and except blocks."
   ]
  },
  {
   "cell_type": "code",
   "execution_count": 123,
   "metadata": {},
   "outputs": [
    {
     "name": "stdout",
     "output_type": "stream",
     "text": [
      "O no!\n",
      "Done! 0.3\n"
     ]
    }
   ],
   "source": [
    "a = 3\n",
    "b = \"String\"\n",
    "try:\n",
    "    c = a / b\n",
    "except ZeroDivisionError:\n",
    "    b = 1\n",
    "    c = a\n",
    "except TypeError:\n",
    "    print(\"O no!\")\n",
    "    b = 10\n",
    "    c = a / b\n",
    "else:\n",
    "    print(\"OK!\")\n",
    "finally:\n",
    "    print(\"Done!\", c)"
   ]
  },
  {
   "cell_type": "code",
   "execution_count": 124,
   "metadata": {},
   "outputs": [
    {
     "name": "stdout",
     "output_type": "stream",
     "text": [
      "OK!\n",
      "Done! 3.0\n"
     ]
    }
   ],
   "source": [
    "a = 3\n",
    "b = 1\n",
    "try:\n",
    "    c = a / b\n",
    "except ZeroDivisionError:\n",
    "    b = 1\n",
    "    c = a\n",
    "except TypeError:\n",
    "    print(\"O no!\")\n",
    "    b = 10\n",
    "    c = a / b\n",
    "else:\n",
    "    print(\"OK!\")\n",
    "finally:\n",
    "    print(\"Done!\", c)"
   ]
  },
  {
   "cell_type": "code",
   "execution_count": 125,
   "metadata": {},
   "outputs": [],
   "source": [
    "def foo(a: int, b: int)-> None:\n",
    "    \n",
    "    if type(a) != int and type(b) != int:\n",
    "        raise TypeError(\"a and b are not integers\")\n",
    "    \n",
    "    if type(a) != int:\n",
    "        raise TypeError(\"a is not an integer\")\n",
    "\n",
    "    if type(b) != int:\n",
    "        raise TypeError(\"b is not an integer\")\n",
    "    \n",
    "    pass"
   ]
  },
  {
   "cell_type": "code",
   "execution_count": 126,
   "metadata": {},
   "outputs": [
    {
     "ename": "TypeError",
     "evalue": "a and b are not integers",
     "output_type": "error",
     "traceback": [
      "\u001b[1;31m---------------------------------------------------------------------------\u001b[0m",
      "\u001b[1;31mTypeError\u001b[0m                                 Traceback (most recent call last)",
      "Cell \u001b[1;32mIn[126], line 1\u001b[0m\n\u001b[1;32m----> 1\u001b[0m \u001b[43mfoo\u001b[49m\u001b[43m(\u001b[49m\u001b[38;5;241;43m3.3\u001b[39;49m\u001b[43m,\u001b[49m\u001b[43m \u001b[49m\u001b[38;5;241;43m3.3\u001b[39;49m\u001b[43m)\u001b[49m\n",
      "Cell \u001b[1;32mIn[125], line 4\u001b[0m, in \u001b[0;36mfoo\u001b[1;34m(a, b)\u001b[0m\n\u001b[0;32m      1\u001b[0m \u001b[38;5;28;01mdef\u001b[39;00m\u001b[38;5;250m \u001b[39m\u001b[38;5;21mfoo\u001b[39m(a: \u001b[38;5;28mint\u001b[39m, b: \u001b[38;5;28mint\u001b[39m)\u001b[38;5;241m-\u001b[39m\u001b[38;5;241m>\u001b[39m \u001b[38;5;28;01mNone\u001b[39;00m:\n\u001b[0;32m      3\u001b[0m     \u001b[38;5;28;01mif\u001b[39;00m \u001b[38;5;28mtype\u001b[39m(a) \u001b[38;5;241m!=\u001b[39m \u001b[38;5;28mint\u001b[39m \u001b[38;5;129;01mand\u001b[39;00m \u001b[38;5;28mtype\u001b[39m(b) \u001b[38;5;241m!=\u001b[39m \u001b[38;5;28mint\u001b[39m:\n\u001b[1;32m----> 4\u001b[0m         \u001b[38;5;28;01mraise\u001b[39;00m \u001b[38;5;167;01mTypeError\u001b[39;00m(\u001b[38;5;124m\"\u001b[39m\u001b[38;5;124ma and b are not integers\u001b[39m\u001b[38;5;124m\"\u001b[39m)\n\u001b[0;32m      6\u001b[0m     \u001b[38;5;28;01mif\u001b[39;00m \u001b[38;5;28mtype\u001b[39m(a) \u001b[38;5;241m!=\u001b[39m \u001b[38;5;28mint\u001b[39m:\n\u001b[0;32m      7\u001b[0m         \u001b[38;5;28;01mraise\u001b[39;00m \u001b[38;5;167;01mTypeError\u001b[39;00m(\u001b[38;5;124m\"\u001b[39m\u001b[38;5;124ma is not an integer\u001b[39m\u001b[38;5;124m\"\u001b[39m)\n",
      "\u001b[1;31mTypeError\u001b[0m: a and b are not integers"
     ]
    }
   ],
   "source": [
    "foo(3.3, 3.3)"
   ]
  },
  {
   "cell_type": "code",
   "execution_count": 127,
   "metadata": {},
   "outputs": [
    {
     "name": "stdout",
     "output_type": "stream",
     "text": [
      "b is not an integer\n",
      "Done! 0.5\n"
     ]
    }
   ],
   "source": [
    "a = 5\n",
    "b = 4.5\n",
    "try:\n",
    "    foo(a, b)\n",
    "except TypeError as error:\n",
    "    print(error)\n",
    "    b = 10\n",
    "    c = a / b\n",
    "else:\n",
    "    print(\"OK!\")\n",
    "finally:\n",
    "    print(\"Done!\", c)"
   ]
  },
  {
   "cell_type": "code",
   "execution_count": 128,
   "metadata": {},
   "outputs": [],
   "source": [
    "a = 5\n",
    "b = 4\n",
    "try:\n",
    "    foo(a, b)\n",
    "except TypeError as error:\n",
    "    print(error)\n",
    "    b = 10\n",
    "    c = a / b"
   ]
  },
  {
   "cell_type": "markdown",
   "metadata": {},
   "source": [
    "### List of ExceptionErrors"
   ]
  },
  {
   "cell_type": "markdown",
   "metadata": {},
   "source": [
    "`ArithmeticError`\t Raised when an error occurs in numeric calculations\n",
    "\n",
    "`AssertionError`\t Raised when an assert statement fails\n",
    "\n",
    "`AttributeError`\t Raised when attribute reference or assignment fails\n",
    "\n",
    "`Exception`     \t Base class for all exceptions\n",
    "\n",
    "`EOFError`\t         Raised when the input() method hits an \"end of file\" condition (EOF)\n",
    "\n",
    "`FloatingPointError` Raised when a floating point calculation fails\n",
    "\n",
    "`GeneratorExit`      Raised when a generator is closed (with the close() method)\n",
    "\n",
    "`ImportError`        Raised when an imported module does not exist\n",
    "\n",
    "`IndentationError`\tRaised when indentation is not correct\n",
    "\n",
    "`IndexError`\tRaised when an index of a sequence does not exist\n",
    "\n",
    "`KeyError`\tRaised when a key does not exist in a dictionary\n",
    "\n",
    "`KeyboardInterrupt`\tRaised when the user presses Ctrl+c, Ctrl+z or Delete\n",
    "\n",
    "`LookupError`\tRaised when errors raised cant be found\n",
    "\n",
    "`MemoryError`\tRaised when a program runs out of memory\n",
    "\n",
    "`NameError`\tRaised when a variable does not exist\n",
    "\n",
    "\n",
    "`NotImplementedError`\tRaised when an abstract method requires an inherited class to override the method\n",
    "\n",
    "`OSError`\tRaised when a system related operation causes an error\n",
    "\n",
    "`OverflowError`\tRaised when the result of a numeric calculation is too large\n",
    "\n",
    "`ReferenceError`\tRaised when a weak reference object does not exist\n",
    "\n",
    "`RuntimeError`\tRaised when an error occurs that do not belong to any specific exceptions\n",
    "\n",
    "`StopIteration`\tRaised when the next() method of an iterator has no further values\n",
    "\n",
    "`SyntaxError`\tRaised when a syntax error occurs\n",
    "\n",
    "`TabError`\tRaised when indentation consists of tabs or spaces\n",
    "\n",
    "`SystemError`\tRaised when a system error occurs\n",
    "\n",
    "`SystemExit`\tRaised when the sys.exit() function is called\n",
    "\n",
    "`TypeError`\tRaised when two different types are combined\n",
    "\n",
    "`UnboundLocalError`\tRaised when a local variable is referenced before assignment\n",
    "\n",
    "`UnicodeError`\tRaised when a unicode problem occurs\n",
    "\n",
    "`UnicodeEncodeError`\tRaised when a unicode encoding problem occurs\n",
    "\n",
    "`UnicodeDecodeError`\tRaised when a unicode decoding problem occurs\n",
    "\n",
    "`UnicodeTranslateError`\tRaised when a unicode translation problem occurs\n",
    "\n",
    "`ValueError`\tRaised when there is a wrong value in a specified data type\n",
    "\n",
    "`ZeroDivisionError`\tRaised when the second operator in a division is zero"
   ]
  },
  {
   "cell_type": "code",
   "execution_count": 133,
   "metadata": {},
   "outputs": [
    {
     "name": "stdout",
     "output_type": "stream",
     "text": [
      "OK!\n"
     ]
    }
   ],
   "source": [
    "import time\n",
    "\n",
    "try:\n",
    "    for i in range(10):\n",
    "        time.sleep(1)\n",
    "except KeyboardInterrupt:\n",
    "    print(\"The execution stopped\")\n",
    "else:\n",
    "    print(\"OK!\")"
   ]
  },
  {
   "cell_type": "markdown",
   "metadata": {},
   "source": [
    "### Self-made Exceptions"
   ]
  },
  {
   "cell_type": "code",
   "execution_count": 137,
   "metadata": {},
   "outputs": [
    {
     "name": "stdout",
     "output_type": "stream",
     "text": [
      "Error: Remove all even numbers.\n"
     ]
    }
   ],
   "source": [
    "class NumbersError(Exception):\n",
    "    pass\n",
    "\n",
    "class EvenError(NumbersError):\n",
    "    pass\n",
    "\n",
    "class NegativeError(NumbersError):\n",
    "    pass\n",
    "\n",
    "def no_even(numbers):\n",
    "    if all(x % 2 != 0 for x in numbers):\n",
    "        return True\n",
    "    raise EvenError(\"Remove all even numbers\")\n",
    "\n",
    "def no_negative(numbers):\n",
    "    if all(x >= 0 for x in numbers):\n",
    "        return True\n",
    "    raise NegativeError(\"Remove all negative numbers\")\n",
    "\n",
    "try:\n",
    "    numbers = [int(x) for x in input(\"Enter numbers separated by space\").split()]\n",
    "    if no_negative(numbers) and no_even(numbers):\n",
    "        print(f\"Sum: {sum(numbers)}.\")\n",
    "\n",
    "except NumbersError as error: \n",
    "    print(f\"Error: {error}.\")\n",
    "\n",
    "except Exception as error:\n",
    "    print(f\"Error: {error}.\")"
   ]
  },
  {
   "cell_type": "code",
   "execution_count": null,
   "metadata": {},
   "outputs": [],
   "source": []
  }
 ],
 "metadata": {
  "kernelspec": {
   "display_name": "Python 3",
   "language": "python",
   "name": "python3"
  },
  "language_info": {
   "codemirror_mode": {
    "name": "ipython",
    "version": 3
   },
   "file_extension": ".py",
   "mimetype": "text/x-python",
   "name": "python",
   "nbconvert_exporter": "python",
   "pygments_lexer": "ipython3",
   "version": "3.13.1"
  }
 },
 "nbformat": 4,
 "nbformat_minor": 2
}
