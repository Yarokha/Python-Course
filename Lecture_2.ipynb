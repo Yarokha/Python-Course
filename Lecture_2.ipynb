{
 "cells": [
  {
   "cell_type": "markdown",
   "metadata": {},
   "source": [
    "# Lecture 2. Data Types"
   ]
  },
  {
   "cell_type": "markdown",
   "metadata": {},
   "source": [
    "- Numeric Types:\tint, float, complex\n",
    "- Sequence Types:\tlist, tuple, range\n",
    "- Mapping Type:\tdict\n",
    "- Set Types:\tset, frozenset\n",
    "- Text Type:\tstr\n",
    "- Boolean Type:\tbool\n",
    "\n",
    "----------------------------------------------\n",
    "Out of our scope:\n",
    "- Binary Types:\tbytes, bytearray, memoryview\n",
    "- None Type:\tNoneType"
   ]
  },
  {
   "cell_type": "markdown",
   "metadata": {},
   "source": [
    "## 2.1 Numeric Types \n",
    "- int - an integer number: `x = 2`\n",
    "- float - a floating-point number: `x = 2.5`\n",
    "- complex - a complex number: `x = 2 + 1j `"
   ]
  },
  {
   "cell_type": "code",
   "execution_count": 1,
   "metadata": {},
   "outputs": [
    {
     "name": "stdout",
     "output_type": "stream",
     "text": [
      "a_int = 5 and type is <class 'int'>\n",
      "b_float = 5.0 and type is <class 'float'>\n"
     ]
    }
   ],
   "source": [
    "a_int = 5\n",
    "b_float = float(a_int)\n",
    "print(f'a_int = {a_int} and type is {type(a_int)}') \n",
    "print(f'b_float = {b_float} and type is {type(b_float)}') "
   ]
  },
  {
   "cell_type": "code",
   "execution_count": 2,
   "metadata": {},
   "outputs": [
    {
     "name": "stdout",
     "output_type": "stream",
     "text": [
      "a = 5 and type is <class 'int'>. id(a) = 140733691593768\n",
      "b = 5 and type is <class 'int'>. id(b) = 140733691593768\n",
      "---------------------------------------------------------\n",
      "a = 4 and type is <class 'int'>. id(a) = 140733691593736\n",
      "b = 5 and type is <class 'int'>. id(b) = 140733691593768\n"
     ]
    }
   ],
   "source": [
    "a = 5\n",
    "b = a\n",
    "print(f'a = {a} and type is {type(a)}. id(a) = {id(a)}') \n",
    "print(f'b = {b} and type is {type(b)}. id(b) = {id(b)}')\n",
    "print('---------------------------------------------------------')\n",
    "a = 4\n",
    "print(f'a = {a} and type is {type(a)}. id(a) = {id(a)}') \n",
    "print(f'b = {b} and type is {type(b)}. id(b) = {id(b)}') "
   ]
  },
  {
   "cell_type": "code",
   "execution_count": 3,
   "metadata": {},
   "outputs": [
    {
     "name": "stdout",
     "output_type": "stream",
     "text": [
      "a = 5 and type is <class 'int'>. id(a) = 140733691593768\n",
      "b = 5 and type is <class 'int'>. id(b) = 140733691593768\n",
      "---------------------------------------------------------\n",
      "a = 5 and type is <class 'int'>. id(a) = 140733691593768\n",
      "b = 4 and type is <class 'int'>. id(b) = 140733691593736\n"
     ]
    }
   ],
   "source": [
    "a = 5\n",
    "b = a\n",
    "print(f'a = {a} and type is {type(a)}. id(a) = {id(a)}') \n",
    "print(f'b = {b} and type is {type(b)}. id(b) = {id(b)}')\n",
    "print('---------------------------------------------------------')\n",
    "b = 4\n",
    "print(f'a = {a} and type is {type(a)}. id(a) = {id(a)}') \n",
    "print(f'b = {b} and type is {type(b)}. id(b) = {id(b)}') "
   ]
  },
  {
   "cell_type": "code",
   "execution_count": 1,
   "metadata": {},
   "outputs": [
    {
     "name": "stdout",
     "output_type": "stream",
     "text": [
      "a = 3.14\n",
      "b = 3\n",
      "c = 3.1\n"
     ]
    }
   ],
   "source": [
    "a = 3.14\n",
    "b = int(a)\n",
    "c = round(a, 1)\n",
    "\n",
    "print(f'a = {a}')\n",
    "print(f'b = {b}')\n",
    "print(f'c = {c}')"
   ]
  },
  {
   "cell_type": "code",
   "execution_count": null,
   "metadata": {},
   "outputs": [
    {
     "name": "stdout",
     "output_type": "stream",
     "text": [
      "a = 3.8\n",
      "b = 3.2\n"
     ]
    }
   ],
   "source": [
    "a = 3.78\n",
    "b = 3.25\n",
    "print(f'a = {round(a, 1)}')\n",
    "print(f'b = {round(b, 1)}')"
   ]
  },
  {
   "cell_type": "code",
   "execution_count": 41,
   "metadata": {},
   "outputs": [
    {
     "name": "stdout",
     "output_type": "stream",
     "text": [
      "a = 4\n",
      "b = 4\n",
      "c = 6\n"
     ]
    }
   ],
   "source": [
    "a = 3.5\n",
    "b = 4.5\n",
    "с = 5.5\n",
    "print(f'a = {round(a)}')\n",
    "print(f'b = {round(b)}')\n",
    "print(f'c = {round(с)}')"
   ]
  },
  {
   "cell_type": "code",
   "execution_count": 42,
   "metadata": {},
   "outputs": [
    {
     "name": "stdout",
     "output_type": "stream",
     "text": [
      "a = 3\n",
      "b = 4\n",
      "c = 4\n",
      "d = 5\n"
     ]
    }
   ],
   "source": [
    "a = 3.4\n",
    "b = 3.6\n",
    "с = 4.4\n",
    "d = 4.6\n",
    "print(f'a = {round(a)}')\n",
    "print(f'b = {round(b)}')\n",
    "print(f'c = {round(с)}')\n",
    "print(f'd = {round(d)}')"
   ]
  },
  {
   "cell_type": "code",
   "execution_count": null,
   "metadata": {},
   "outputs": [
    {
     "name": "stdout",
     "output_type": "stream",
     "text": [
      "round(a) = 2\n",
      "m.ceil(a) = 3\n",
      "m.floor(a) = 2\n",
      "int(a) = 2\n"
     ]
    }
   ],
   "source": [
    "import math as m\n",
    "\n",
    "\n",
    "a = 2.345\n",
    "print(f'round(a) = {round(a)}') # BE CAREFUL ROUNDING USING FINANCIAL ROUNDING\n",
    "print(f'm.ceil(a) = {m.ceil(a)}') # rounds up and returns the smallest integer greater than or equal to a given number\n",
    "print(f'm.floor(a) = {m.floor(a)}') # rounds down and returns the largest integer less than or equal to a given numbe\n",
    "print(f'int(a) = {int(a)}') # converts a decimal (floating-point) number to its integer part by truncating the fractional part"
   ]
  },
  {
   "cell_type": "code",
   "execution_count": null,
   "metadata": {},
   "outputs": [
    {
     "name": "stdout",
     "output_type": "stream",
     "text": [
      "a // b = 2\n",
      "a % b = 1\n",
      "a / b = 2.333\n"
     ]
    }
   ],
   "source": [
    "a = 7\n",
    "b = 3\n",
    "\n",
    "print(f'a // b = {a // b}') # floor division\n",
    "print(f'a % b = {a % b}') # returns the remainder of a division operation\n",
    "print(f'a / b = {(a / b):.3f}') # true devision"
   ]
  },
  {
   "cell_type": "code",
   "execution_count": 8,
   "metadata": {},
   "outputs": [
    {
     "name": "stdout",
     "output_type": "stream",
     "text": [
      "(3+5j)\n"
     ]
    }
   ],
   "source": [
    "a = 3 + 5j\n",
    "print(a)"
   ]
  },
  {
   "cell_type": "code",
   "execution_count": 9,
   "metadata": {},
   "outputs": [
    {
     "name": "stdout",
     "output_type": "stream",
     "text": [
      "(3-5j)\n"
     ]
    }
   ],
   "source": [
    "print(a.conjugate())"
   ]
  },
  {
   "cell_type": "code",
   "execution_count": 10,
   "metadata": {},
   "outputs": [
    {
     "name": "stdout",
     "output_type": "stream",
     "text": [
      " Real(a) = 3.0\n",
      " Im(a) = 5.0\n"
     ]
    }
   ],
   "source": [
    "print(f\" Real(a) = {a.real}\\n Im(a) = {a.imag}\")"
   ]
  },
  {
   "cell_type": "code",
   "execution_count": 11,
   "metadata": {},
   "outputs": [
    {
     "name": "stdout",
     "output_type": "stream",
     "text": [
      " Abs(a) = 5.830951894845301\n"
     ]
    }
   ],
   "source": [
    "print(f\" Abs(a) = {abs(a)}\")"
   ]
  },
  {
   "cell_type": "code",
   "execution_count": 12,
   "metadata": {},
   "outputs": [
    {
     "data": {
      "text/plain": [
       "5.830951894845301"
      ]
     },
     "execution_count": 12,
     "metadata": {},
     "output_type": "execute_result"
    }
   ],
   "source": [
    "abs(a.conjugate() * a)**0.5"
   ]
  },
  {
   "cell_type": "markdown",
   "metadata": {},
   "source": [
    "Integer, float, string and complex are IMMUTABLE data types"
   ]
  },
  {
   "cell_type": "markdown",
   "metadata": {},
   "source": [
    "## 2.2 Sequence, Mapping and Set Types"
   ]
  },
  {
   "cell_type": "markdown",
   "metadata": {},
   "source": [
    "- list `list()` or `[]`: list of elemets [1, 2, 3], [1, 2, 3.14] or [1, 2.78, 'hello world!!!']\n",
    "- tuple `tuple()` or `()`: tuple of elements (1, 2, 3), (1,2, 3.14) or (1, 2.78, 'hello world!!!')\n",
    "- range `range()`: `range(5)`->0, 1, 2, 3, 4; `range(1,5)`-> 1, 2, 3, 4; `range(1,5,2)`-> 1, 3"
   ]
  },
  {
   "cell_type": "markdown",
   "metadata": {},
   "source": [
    "### 2.2.1 List\n",
    "List is a collection which is ordered and changeable. Allows duplicate members."
   ]
  },
  {
   "cell_type": "code",
   "execution_count": 8,
   "metadata": {},
   "outputs": [
    {
     "name": "stdout",
     "output_type": "stream",
     "text": [
      "<class 'list'>\n"
     ]
    }
   ],
   "source": [
    "ls = [1, 2, 4, 5]\n",
    "print(type(ls))"
   ]
  },
  {
   "cell_type": "code",
   "execution_count": 9,
   "metadata": {},
   "outputs": [
    {
     "name": "stdout",
     "output_type": "stream",
     "text": [
      "[1, 2, 4, 5, 3, 4, 6]\n"
     ]
    }
   ],
   "source": [
    "# create one list\n",
    "a = [1, 2, 4, 5]\n",
    "b = [3, 4, 6]\n",
    "c = a + b\n",
    "print(c)"
   ]
  },
  {
   "cell_type": "code",
   "execution_count": 2,
   "metadata": {},
   "outputs": [
    {
     "ename": "TypeError",
     "evalue": "unsupported operand type(s) for -: 'list' and 'list'",
     "output_type": "error",
     "traceback": [
      "\u001b[1;31m---------------------------------------------------------------------------\u001b[0m",
      "\u001b[1;31mTypeError\u001b[0m                                 Traceback (most recent call last)",
      "Cell \u001b[1;32mIn[2], line 3\u001b[0m\n\u001b[0;32m      1\u001b[0m a \u001b[39m=\u001b[39m [\u001b[39m1\u001b[39m, \u001b[39m2\u001b[39m, \u001b[39m4\u001b[39m, \u001b[39m5\u001b[39m]\n\u001b[0;32m      2\u001b[0m b \u001b[39m=\u001b[39m [\u001b[39m3\u001b[39m, \u001b[39m4\u001b[39m, \u001b[39m6\u001b[39m]\n\u001b[1;32m----> 3\u001b[0m c \u001b[39m=\u001b[39m a \u001b[39m-\u001b[39;49m b\n\u001b[0;32m      4\u001b[0m \u001b[39mprint\u001b[39m(a \u001b[39m-\u001b[39m b)\n",
      "\u001b[1;31mTypeError\u001b[0m: unsupported operand type(s) for -: 'list' and 'list'"
     ]
    }
   ],
   "source": [
    "a = [1, 2, 4, 5]\n",
    "b = [3, 4, 6]\n",
    "c = a - b\n",
    "print(a - b)"
   ]
  },
  {
   "cell_type": "code",
   "execution_count": 3,
   "metadata": {},
   "outputs": [
    {
     "name": "stdout",
     "output_type": "stream",
     "text": [
      "[1, 2, 4, 5, 1, 2, 4, 5]\n"
     ]
    }
   ],
   "source": [
    "c = a * 2 #creat doubled list \"a\"\n",
    "print(c)"
   ]
  },
  {
   "cell_type": "code",
   "execution_count": 5,
   "metadata": {},
   "outputs": [],
   "source": [
    "a = [1, 2, 3]\n",
    "b= a"
   ]
  },
  {
   "cell_type": "code",
   "execution_count": 6,
   "metadata": {},
   "outputs": [],
   "source": [
    "a = a *2"
   ]
  },
  {
   "cell_type": "code",
   "execution_count": 8,
   "metadata": {},
   "outputs": [
    {
     "data": {
      "text/plain": [
       "[1, 2, 3]"
      ]
     },
     "execution_count": 8,
     "metadata": {},
     "output_type": "execute_result"
    }
   ],
   "source": [
    "b"
   ]
  },
  {
   "cell_type": "code",
   "execution_count": null,
   "metadata": {},
   "outputs": [
    {
     "name": "stdout",
     "output_type": "stream",
     "text": [
      "[1, 1, 1, 1, 1]\n"
     ]
    }
   ],
   "source": [
    "c = [1] * 5 #create list with 5 element equal to 1\n",
    "print(c)"
   ]
  },
  {
   "cell_type": "code",
   "execution_count": null,
   "metadata": {},
   "outputs": [
    {
     "name": "stdout",
     "output_type": "stream",
     "text": [
      "[1, 1, 1, 1, 1, 5]\n"
     ]
    }
   ],
   "source": [
    "c.append(5) # add element to the end\n",
    "print(c)"
   ]
  },
  {
   "cell_type": "code",
   "execution_count": null,
   "metadata": {},
   "outputs": [
    {
     "name": "stdout",
     "output_type": "stream",
     "text": [
      "ls = [4, 1, 2]\n"
     ]
    }
   ],
   "source": [
    "ls = [4, 5, 1, 2]\n",
    "ls.remove(5) # remove element by value\n",
    "print(f'ls = {ls}')"
   ]
  },
  {
   "cell_type": "code",
   "execution_count": 9,
   "metadata": {},
   "outputs": [
    {
     "name": "stdout",
     "output_type": "stream",
     "text": [
      "ls = [4, 1, 2, 5]\n"
     ]
    }
   ],
   "source": [
    "ls = [4, 5, 1, 2, 5]\n",
    "ls.remove(5) # remove element by value\n",
    "print(f'ls = {ls}')"
   ]
  },
  {
   "cell_type": "code",
   "execution_count": null,
   "metadata": {},
   "outputs": [],
   "source": []
  },
  {
   "cell_type": "code",
   "execution_count": null,
   "metadata": {},
   "outputs": [
    {
     "ename": "ValueError",
     "evalue": "list.remove(x): x not in list",
     "output_type": "error",
     "traceback": [
      "\u001b[1;31m---------------------------------------------------------------------------\u001b[0m",
      "\u001b[1;31mValueError\u001b[0m                                Traceback (most recent call last)",
      "Cell \u001b[1;32mIn[104], line 1\u001b[0m\n\u001b[1;32m----> 1\u001b[0m \u001b[43mls\u001b[49m\u001b[38;5;241;43m.\u001b[39;49m\u001b[43mremove\u001b[49m\u001b[43m(\u001b[49m\u001b[38;5;241;43m5\u001b[39;49m\u001b[43m)\u001b[49m\n\u001b[0;32m      2\u001b[0m \u001b[38;5;28mprint\u001b[39m(\u001b[38;5;124mf\u001b[39m\u001b[38;5;124m'\u001b[39m\u001b[38;5;124mls = \u001b[39m\u001b[38;5;132;01m{\u001b[39;00mls\u001b[38;5;132;01m}\u001b[39;00m\u001b[38;5;124m'\u001b[39m)\n",
      "\u001b[1;31mValueError\u001b[0m: list.remove(x): x not in list"
     ]
    }
   ],
   "source": [
    "ls.remove(5)\n",
    "print(f'ls = {ls}')"
   ]
  },
  {
   "cell_type": "code",
   "execution_count": 11,
   "metadata": {},
   "outputs": [
    {
     "name": "stdout",
     "output_type": "stream",
     "text": [
      "ls = [4, 5, 2]\n"
     ]
    }
   ],
   "source": [
    "ls = [4, 5, 1, 2]\n",
    "ls.pop(2) # remove element by index\n",
    "print(f'ls = {ls}')"
   ]
  },
  {
   "cell_type": "code",
   "execution_count": 12,
   "metadata": {},
   "outputs": [
    {
     "name": "stdout",
     "output_type": "stream",
     "text": [
      "ls = []\n"
     ]
    }
   ],
   "source": [
    "ls.clear() # clear the list\n",
    "print(f'ls = {ls}')"
   ]
  },
  {
   "cell_type": "code",
   "execution_count": 13,
   "metadata": {},
   "outputs": [
    {
     "name": "stdout",
     "output_type": "stream",
     "text": [
      "ls[0] = 1\n"
     ]
    }
   ],
   "source": [
    "ls = [4, 5, 1, 2]\n",
    "print(f'ls[0] = {a[0]}') #print zero element"
   ]
  },
  {
   "cell_type": "code",
   "execution_count": 10,
   "metadata": {},
   "outputs": [
    {
     "name": "stdout",
     "output_type": "stream",
     "text": [
      "ls[-2] = 2\n"
     ]
    }
   ],
   "source": [
    "ls = [4, 5, 1, 2]\n",
    "print(f'ls[-2] = {a[-2]}') #print -2nd element"
   ]
  },
  {
   "cell_type": "code",
   "execution_count": 15,
   "metadata": {},
   "outputs": [
    {
     "name": "stdout",
     "output_type": "stream",
     "text": [
      "ls = [1, 2, 4, 5]\n"
     ]
    }
   ],
   "source": [
    "ls = [4, 5, 1, 2]\n",
    "ls.insert(3, 0) # insert index in the 3rd place\n",
    "print(f'ls = {a}')"
   ]
  },
  {
   "cell_type": "code",
   "execution_count": 11,
   "metadata": {},
   "outputs": [
    {
     "name": "stdout",
     "output_type": "stream",
     "text": [
      "ls = [5, 1, 2, 5]\n"
     ]
    }
   ],
   "source": [
    "ls = [4, 5, 1, 2, 5]\n",
    "print(f'ls = {ls[1:]}') # print from 1st element to the end, NOT modified the list a "
   ]
  },
  {
   "cell_type": "code",
   "execution_count": 16,
   "metadata": {},
   "outputs": [],
   "source": [
    "a  = ls[3:].remove(5)"
   ]
  },
  {
   "cell_type": "code",
   "execution_count": 15,
   "metadata": {},
   "outputs": [
    {
     "data": {
      "text/plain": [
       "[4, 5, 1, 2, 5]"
      ]
     },
     "execution_count": 15,
     "metadata": {},
     "output_type": "execute_result"
    }
   ],
   "source": [
    "ls"
   ]
  },
  {
   "cell_type": "code",
   "execution_count": 20,
   "metadata": {},
   "outputs": [
    {
     "name": "stdout",
     "output_type": "stream",
     "text": [
      "ls = [4, 1, 5]\n"
     ]
    }
   ],
   "source": [
    "ls = [4, 5, 1, 2, 5]\n",
    "print(f'ls = {ls[0::2]}') # print every 2nd element from the zero element, NOT modified the list a "
   ]
  },
  {
   "cell_type": "code",
   "execution_count": 18,
   "metadata": {},
   "outputs": [
    {
     "name": "stdout",
     "output_type": "stream",
     "text": [
      "ls = [4, 5]\n"
     ]
    }
   ],
   "source": [
    "print(f'ls = {ls[:-2]}') # print from the zero element to -2nd element, NOT modified the list a "
   ]
  },
  {
   "cell_type": "code",
   "execution_count": 19,
   "metadata": {},
   "outputs": [
    {
     "name": "stdout",
     "output_type": "stream",
     "text": [
      "ls = [1, 2, 4, 5]\n"
     ]
    }
   ],
   "source": [
    "ls = [4, 5, 1, 2]\n",
    "ls.sort() # sort list ls\n",
    "print(f'ls = {ls}')"
   ]
  },
  {
   "cell_type": "code",
   "execution_count": 20,
   "metadata": {},
   "outputs": [
    {
     "name": "stdout",
     "output_type": "stream",
     "text": [
      "mat = [[1, 2], [3, 1], [5, 0]]\n"
     ]
    }
   ],
   "source": [
    "mat = [[1,2], [5, 0], [3, 1]]\n",
    "mat.sort(key=lambda x: x[0]) #by the first element\n",
    "print(f'mat = {mat}')"
   ]
  },
  {
   "cell_type": "code",
   "execution_count": 21,
   "metadata": {},
   "outputs": [
    {
     "name": "stdout",
     "output_type": "stream",
     "text": [
      "mat = [[1, 2], [3, 1], [5, 0]]\n"
     ]
    }
   ],
   "source": [
    "mat = [[1,2], [5, 0], [3, 1]]\n",
    "mat.sort(key=lambda x: x[1], reverse=True) #by the second element and in reverse order\n",
    "print(f'mat = {mat}')"
   ]
  },
  {
   "cell_type": "code",
   "execution_count": 21,
   "metadata": {},
   "outputs": [],
   "source": [
    "list_a = [['sting1', 2]]"
   ]
  },
  {
   "cell_type": "code",
   "execution_count": 23,
   "metadata": {},
   "outputs": [],
   "source": [
    "list_a.append(3)"
   ]
  },
  {
   "cell_type": "code",
   "execution_count": 25,
   "metadata": {},
   "outputs": [
    {
     "data": {
      "text/plain": [
       "[['sting1', 2], 3]"
      ]
     },
     "execution_count": 25,
     "metadata": {},
     "output_type": "execute_result"
    }
   ],
   "source": [
    "list_a"
   ]
  },
  {
   "cell_type": "code",
   "execution_count": 22,
   "metadata": {},
   "outputs": [
    {
     "name": "stdout",
     "output_type": "stream",
     "text": [
      "a = [1, 2, 5, 9]\n",
      "b = [1, 2, 5, 9]\n"
     ]
    }
   ],
   "source": [
    "a = [1, 2, 5, 9]\n",
    "b = a\n",
    "print(f'a = {a}\\nb = {b}')"
   ]
  },
  {
   "cell_type": "code",
   "execution_count": 23,
   "metadata": {},
   "outputs": [
    {
     "name": "stdout",
     "output_type": "stream",
     "text": [
      "a = [1, 2, 5, 9, 0]\n",
      "b = [1, 2, 5, 9, 0]\n"
     ]
    }
   ],
   "source": [
    "b.append(0)\n",
    "print(f'a = {a}\\nb = {b}')"
   ]
  },
  {
   "cell_type": "code",
   "execution_count": 24,
   "metadata": {},
   "outputs": [
    {
     "name": "stdout",
     "output_type": "stream",
     "text": [
      "id(a) = 2590168158144\n",
      "id(b) = 2590168158144\n"
     ]
    }
   ],
   "source": [
    "print(f'id(a) = {id(a)}\\nid(b) = {id(b)}')"
   ]
  },
  {
   "cell_type": "code",
   "execution_count": 25,
   "metadata": {},
   "outputs": [
    {
     "name": "stdout",
     "output_type": "stream",
     "text": [
      "a = [1, 2, 5, 9]\n",
      "b = [1, 2, 5, 9, 0]\n",
      "id(a) = 2590168269824\n",
      "id(b) = 2590168276544\n"
     ]
    }
   ],
   "source": [
    "a = [1, 2, 5, 9]\n",
    "b = a.copy()\n",
    "b.append(0)\n",
    "print(f'a = {a}\\nb = {b}')\n",
    "print(f'id(a) = {id(a)}\\nid(b) = {id(b)}')"
   ]
  },
  {
   "cell_type": "code",
   "execution_count": 28,
   "metadata": {},
   "outputs": [
    {
     "name": "stdout",
     "output_type": "stream",
     "text": [
      "100 200 500 900\n"
     ]
    }
   ],
   "source": [
    "def mult100(x: int)-> int:\n",
    "    return 100*x\n",
    "\n",
    "\n",
    "a = [1, 2, 5, 9]\n",
    "b = list(map(mult100, a))\n",
    "print(*b)\n",
    "print(b[0], b[1], b[2])"
   ]
  },
  {
   "cell_type": "code",
   "execution_count": 30,
   "metadata": {},
   "outputs": [
    {
     "name": "stdout",
     "output_type": "stream",
     "text": [
      "1 2 3\n"
     ]
    }
   ],
   "source": [
    "arr = [1,2,3]\n",
    "a, b, c = arr\n",
    "print(a, b,c)"
   ]
  },
  {
   "cell_type": "code",
   "execution_count": 57,
   "metadata": {},
   "outputs": [
    {
     "name": "stdout",
     "output_type": "stream",
     "text": [
      "(1, 9) (2, 8) (3, 7) (4, 6)\n"
     ]
    }
   ],
   "source": [
    "a = [1, 2, 3, 4]\n",
    "b = [9, 8, 7 ,6]\n",
    "c = list(zip(a, b))\n",
    "print(*c)"
   ]
  },
  {
   "cell_type": "code",
   "execution_count": 58,
   "metadata": {},
   "outputs": [
    {
     "name": "stdout",
     "output_type": "stream",
     "text": [
      "(1, 9) (2, 8) (3, 7) (4, 6)\n"
     ]
    }
   ],
   "source": [
    "a = [1, 2, 3, 4, 5, 6]\n",
    "b = [9, 8, 7 ,6]\n",
    "c = list(zip(a, b))\n",
    "print(*c)"
   ]
  },
  {
   "cell_type": "code",
   "execution_count": 59,
   "metadata": {},
   "outputs": [
    {
     "name": "stdout",
     "output_type": "stream",
     "text": [
      "(1, 9) (2, 8) (3, 7) (4, 6)\n"
     ]
    }
   ],
   "source": [
    "a = [1, 2, 3, 4]\n",
    "b = [9, 8, 7, 6, 5]\n",
    "c = list(zip(a, b))\n",
    "print(*c)"
   ]
  },
  {
   "cell_type": "markdown",
   "metadata": {},
   "source": [
    "#### List of Methods of List\n",
    "\n",
    "`append()`\tAdds an element at the end of the list\n",
    "\n",
    "`clear()`\tRemoves all the elements from the list\n",
    "\n",
    "`copy()`\tReturns a copy of the list\n",
    "\n",
    "`count()`\tReturns the number of elements with the specified value\n",
    "\n",
    "`extend()`\tAdd the elements of a list (or any iterable), to the end of the current list\n",
    "\n",
    "`index()`\tReturns the index of the first element with the specified value\n",
    "\n",
    "`insert()`\tAdds an element at the specified position\n",
    "\n",
    "`pop()`\t    Removes the element at the specified position\n",
    "\n",
    "`remove()`\tRemoves the first item with the specified value\n",
    "\n",
    "`reverse()`\tReverses the order of the list\n",
    "\n",
    "`sort()`   \tSorts the list"
   ]
  },
  {
   "cell_type": "markdown",
   "metadata": {},
   "source": [
    "### 2.2.2 Tuple\n",
    "Tuple is a collection which is ordered and unchangeable. Allows duplicate members."
   ]
  },
  {
   "cell_type": "code",
   "execution_count": 26,
   "metadata": {},
   "outputs": [
    {
     "name": "stdout",
     "output_type": "stream",
     "text": [
      "tpl = (1, 2, 4, 5) and type is <class 'tuple'>\n"
     ]
    }
   ],
   "source": [
    "tpl = (1, 2, 4, 5)\n",
    "print(f'tpl = {tpl} and type is {type(tpl)}') "
   ]
  },
  {
   "cell_type": "code",
   "execution_count": 27,
   "metadata": {},
   "outputs": [
    {
     "name": "stdout",
     "output_type": "stream",
     "text": [
      "tpl = (1, 2.78, 3.14, '5', 6, 7, 8) and type is <class 'tuple'>\n"
     ]
    }
   ],
   "source": [
    "tpl_1 = (1, 2.78, 3.14, '5')\n",
    "tpl_2 = (6, 7, 8)\n",
    "tpl = tpl_1 + tpl_2\n",
    "print(f'tpl = {tpl} and type is {type(tpl)}') "
   ]
  },
  {
   "cell_type": "code",
   "execution_count": 28,
   "metadata": {},
   "outputs": [
    {
     "name": "stdout",
     "output_type": "stream",
     "text": [
      "tpl = 10 and type is <class 'int'>\n"
     ]
    }
   ],
   "source": [
    "tpl = (1) * 10\n",
    "print(f'tpl = {tpl} and type is {type(tpl)}') "
   ]
  },
  {
   "cell_type": "code",
   "execution_count": 29,
   "metadata": {},
   "outputs": [
    {
     "name": "stdout",
     "output_type": "stream",
     "text": [
      "tpl = (1, 1, 1, 1, 1, 1, 1, 1, 1, 1) and type is <class 'tuple'>\n"
     ]
    }
   ],
   "source": [
    "tpl = (1,) * 10\n",
    "print(f'tpl = {tpl} and type is {type(tpl)}') "
   ]
  },
  {
   "cell_type": "markdown",
   "metadata": {},
   "source": [
    "*Tuple* is **IMMUTABLE** datatype, you cannot add or remove elements"
   ]
  },
  {
   "cell_type": "code",
   "execution_count": 30,
   "metadata": {},
   "outputs": [
    {
     "name": "stdout",
     "output_type": "stream",
     "text": [
      "tpl = (1, 2, 4, 5) and type is <class 'tuple'>\n",
      "ls = [1, 2, 4, 5] and type is <class 'list'>\n"
     ]
    }
   ],
   "source": [
    "tpl = (1, 2, 4, 5)\n",
    "print(f'tpl = {tpl} and type is {type(tpl)}') \n",
    "ls = list(tpl) # convertation of tuple to list\n",
    "print(f'ls = {ls} and type is {type(ls)}') "
   ]
  },
  {
   "cell_type": "markdown",
   "metadata": {},
   "source": [
    "#### List of Methods of Tuple\n",
    "\n",
    "`count()`\tReturns the number of times a specified value occurs in a tuple\n",
    "\n",
    "`index()`\tSearches the tuple for a specified value and returns the position of where it was found"
   ]
  },
  {
   "cell_type": "markdown",
   "metadata": {},
   "source": [
    "### 2.2.3 Range"
   ]
  },
  {
   "cell_type": "markdown",
   "metadata": {},
   "source": [
    "```python\n",
    "rg = range(start, stop, step)\n",
    "```\n",
    "Generate numbers in the folowing sequence [start,stop) with a step=step"
   ]
  },
  {
   "cell_type": "code",
   "execution_count": 31,
   "metadata": {},
   "outputs": [],
   "source": [
    "rg_1 = range(10) # generate numbers from 0 to 9 with a step of 1\n",
    "rg_2 = range(2,10) # generate numbers from 2 to 9 with a step of 1\n",
    "rg_3 = range(2, 10, 2) # generate numbers from 2 to 9 with a step of 2\n",
    "rg_4 = range(10, 2, -2) # generate numbers from 10 to 2 with a step of 2"
   ]
  },
  {
   "cell_type": "code",
   "execution_count": 32,
   "metadata": {},
   "outputs": [
    {
     "name": "stdout",
     "output_type": "stream",
     "text": [
      "ls = [10, 8, 6, 4] and type is <class 'list'>\n"
     ]
    }
   ],
   "source": [
    "ls = list(rg_4) # convert range into list\n",
    "print(f'ls = {ls} and type is {type(ls)}') "
   ]
  },
  {
   "cell_type": "code",
   "execution_count": 33,
   "metadata": {},
   "outputs": [
    {
     "name": "stdout",
     "output_type": "stream",
     "text": [
      "tpl = (10, 8, 6, 4) and type is <class 'tuple'>\n"
     ]
    }
   ],
   "source": [
    "tpl = tuple(rg_4) # convert range into tuple\n",
    "print(f'tpl = {tpl} and type is {type(tpl)}') "
   ]
  },
  {
   "cell_type": "markdown",
   "metadata": {},
   "source": [
    "## 2.3 Mapping Type"
   ]
  },
  {
   "cell_type": "code",
   "execution_count": 34,
   "metadata": {},
   "outputs": [
    {
     "name": "stdout",
     "output_type": "stream",
     "text": [
      "d = {'one': 1, 'pi': 3.14} and type is <class 'dict'>\n"
     ]
    }
   ],
   "source": [
    "d = {\"one\": 1, \"pi\": 3.14, }\n",
    "print(f'd = {d} and type is {type(d)}') "
   ]
  },
  {
   "cell_type": "code",
   "execution_count": 35,
   "metadata": {},
   "outputs": [
    {
     "name": "stdout",
     "output_type": "stream",
     "text": [
      "keys = ['one', 'pi']\n"
     ]
    }
   ],
   "source": [
    "d_keys = list(d.keys())\n",
    "print(f'keys = {d_keys}') "
   ]
  },
  {
   "cell_type": "code",
   "execution_count": 36,
   "metadata": {},
   "outputs": [
    {
     "name": "stdout",
     "output_type": "stream",
     "text": [
      "values = [1, 3.14]\n"
     ]
    }
   ],
   "source": [
    "d_values = list(d.values())\n",
    "print(f'values = {d_values}') "
   ]
  },
  {
   "cell_type": "code",
   "execution_count": 37,
   "metadata": {},
   "outputs": [
    {
     "name": "stdout",
     "output_type": "stream",
     "text": [
      "keys = ['one', 'pi']\n"
     ]
    }
   ],
   "source": [
    "d_keys = list(d.keys())\n",
    "print(f'keys = {d_keys}') "
   ]
  },
  {
   "cell_type": "code",
   "execution_count": 38,
   "metadata": {},
   "outputs": [],
   "source": [
    "d.update({4: 3})"
   ]
  },
  {
   "cell_type": "code",
   "execution_count": 39,
   "metadata": {},
   "outputs": [
    {
     "name": "stdout",
     "output_type": "stream",
     "text": [
      "id(a) = 2590162629056\n",
      "id(d) = 2590162629056\n"
     ]
    }
   ],
   "source": [
    "a = d \n",
    "print(f'id(a) = {id(a)}\\nid(d) = {id(d)}')"
   ]
  },
  {
   "cell_type": "markdown",
   "metadata": {},
   "source": [
    "#### List of Methods of Dictionary\n",
    "\n",
    "`clear()`\tRemoves all the elements from the dictionary\n",
    "\n",
    "`copy()`\tReturns a copy of the dictionary\n",
    "\n",
    "`fromkeys()`\tReturns a dictionary with the specified keys and value\n",
    "\n",
    "`get()`\tReturns the value of the specified key\n",
    "\n",
    "`items()`\tReturns a list containing a tuple for each key value pair\n",
    "\n",
    "`keys()`\tReturns a list containing the dictionary's keys\n",
    "\n",
    "`pop()`\tRemoves the element with the specified key\n",
    "\n",
    "`popitem()`\tRemoves the last inserted key-value pair\n",
    "\n",
    "`setdefault()`\tReturns the value of the specified key. If the key does not exist: insert the key, with the specified value\n",
    "\n",
    "`update()`\tUpdates the dictionary with the specified key-value pairs\n",
    "\n",
    "`values()`\tReturns a list of all the values in the dictionary"
   ]
  },
  {
   "cell_type": "markdown",
   "metadata": {},
   "source": [
    "## 2.4 Set Type\n",
    "\n"
   ]
  },
  {
   "cell_type": "markdown",
   "metadata": {},
   "source": [
    "### 2.4.1 Set is a collection which is unordered, and unindexed. No duplicate members."
   ]
  },
  {
   "cell_type": "code",
   "execution_count": 40,
   "metadata": {},
   "outputs": [
    {
     "name": "stdout",
     "output_type": "stream",
     "text": [
      "st = {1, 2, 3, 4, 5, 6} and type is <class 'set'>\n"
     ]
    }
   ],
   "source": [
    "st = set([1,2,3,4,5,6,2,3])\n",
    "print(f'st = {st} and type is {type(st)}')"
   ]
  },
  {
   "cell_type": "code",
   "execution_count": 41,
   "metadata": {},
   "outputs": [
    {
     "name": "stdout",
     "output_type": "stream",
     "text": [
      "st = {1, 2, 3, 4, 5, 6, 10}\n"
     ]
    }
   ],
   "source": [
    "st.add(10)\n",
    "print(f'st = {st}')"
   ]
  },
  {
   "cell_type": "code",
   "execution_count": 42,
   "metadata": {},
   "outputs": [
    {
     "name": "stdout",
     "output_type": "stream",
     "text": [
      "st = {1, 2, 4, 5, 6, 10}\n"
     ]
    }
   ],
   "source": [
    "st.remove(3)\n",
    "print(f'st = {st}')"
   ]
  },
  {
   "cell_type": "code",
   "execution_count": 43,
   "metadata": {},
   "outputs": [
    {
     "ename": "KeyError",
     "evalue": "3",
     "output_type": "error",
     "traceback": [
      "\u001b[1;31m---------------------------------------------------------------------------\u001b[0m",
      "\u001b[1;31mKeyError\u001b[0m                                  Traceback (most recent call last)",
      "Cell \u001b[1;32mIn[43], line 1\u001b[0m\n\u001b[1;32m----> 1\u001b[0m \u001b[43mst\u001b[49m\u001b[38;5;241;43m.\u001b[39;49m\u001b[43mremove\u001b[49m\u001b[43m(\u001b[49m\u001b[38;5;241;43m3\u001b[39;49m\u001b[43m)\u001b[49m\n\u001b[0;32m      2\u001b[0m \u001b[38;5;28mprint\u001b[39m(\u001b[38;5;124mf\u001b[39m\u001b[38;5;124m'\u001b[39m\u001b[38;5;124mst = \u001b[39m\u001b[38;5;132;01m{\u001b[39;00mst\u001b[38;5;132;01m}\u001b[39;00m\u001b[38;5;124m'\u001b[39m)\n",
      "\u001b[1;31mKeyError\u001b[0m: 3"
     ]
    }
   ],
   "source": [
    "st.remove(3)\n",
    "print(f'st = {st}')"
   ]
  },
  {
   "cell_type": "markdown",
   "metadata": {},
   "source": [
    "#### List of Methods of Set\n",
    "\n",
    "`add()` \tAdds an element to the set\n",
    "\n",
    "`clear()`\t \tRemoves all the elements from the set\n",
    "\n",
    "`copy()`\t \tReturns a copy of the set\n",
    "\n",
    "`difference()`\tor `-`\tReturns a set containing the difference between two or more sets\n",
    "\n",
    "`difference_update()` or\t`-=`\tRemoves the items in this set that are also included in another, specified set\n",
    "\n",
    "`discard()`\t \tRemove the specified item\n",
    "\n",
    "`intersection()` or\t`&`\tReturns a set, that is the intersection of two other sets\n",
    "\n",
    "`intersection_update()`\t`&=`\tRemoves the items in this set that are not present in other, specified set(s)\n",
    "\n",
    "`isdisjoint()`\t \tReturns whether two sets have a intersection or not\n",
    "\n",
    "`issubset()` or\t`<=`\tReturns whether another set contains this set or not\n",
    "\n",
    "`<`\tReturns whether all items in this set is present in other, specified set(s)\n",
    "\n",
    "`issuperset()`\tor `>=` Returns whether this set contains another set or not\n",
    "\n",
    "`>`\tReturns whether all items in other, specified set(s) is present in this set\n",
    "\n",
    "`pop()` \tRemoves an element from the set\n",
    "\n",
    "`remove()`\t \tRemoves the specified element\n",
    "\n",
    "`symmetric_difference()` or `^`\tReturns a set with the symmetric differences of two sets\n",
    "\n",
    "`symmetric_difference_update()` or\t`^=`\tInserts the symmetric differences from this set and another\n",
    "\n",
    "`union()` or\t`|`\tReturn a set containing the union of sets\n",
    "\n",
    "`update()` or\t`|=`\tUpdate the set with the union of this set and others"
   ]
  },
  {
   "cell_type": "markdown",
   "metadata": {},
   "source": [
    "### 2.4.2 Frozen is immutable set."
   ]
  },
  {
   "cell_type": "code",
   "execution_count": 3,
   "metadata": {},
   "outputs": [
    {
     "name": "stdout",
     "output_type": "stream",
     "text": [
      "frozenset()\n"
     ]
    }
   ],
   "source": [
    "a = frozenset()\n",
    "print(a)"
   ]
  },
  {
   "cell_type": "code",
   "execution_count": 4,
   "metadata": {},
   "outputs": [
    {
     "ename": "AttributeError",
     "evalue": "'frozenset' object has no attribute 'insert'",
     "output_type": "error",
     "traceback": [
      "\u001b[1;31m---------------------------------------------------------------------------\u001b[0m",
      "\u001b[1;31mAttributeError\u001b[0m                            Traceback (most recent call last)",
      "Cell \u001b[1;32mIn[4], line 1\u001b[0m\n\u001b[1;32m----> 1\u001b[0m \u001b[43ma\u001b[49m\u001b[38;5;241;43m.\u001b[39;49m\u001b[43minsert\u001b[49m(a)\n",
      "\u001b[1;31mAttributeError\u001b[0m: 'frozenset' object has no attribute 'insert'"
     ]
    }
   ],
   "source": [
    "a.insert(a)"
   ]
  },
  {
   "cell_type": "code",
   "execution_count": 9,
   "metadata": {},
   "outputs": [
    {
     "name": "stdout",
     "output_type": "stream",
     "text": [
      "frozenset({1, 2, 3})\n"
     ]
    }
   ],
   "source": [
    "b = frozenset([1,2,3])\n",
    "print(b)"
   ]
  },
  {
   "cell_type": "code",
   "execution_count": 12,
   "metadata": {},
   "outputs": [
    {
     "ename": "AttributeError",
     "evalue": "'frozenset' object has no attribute 'remove'",
     "output_type": "error",
     "traceback": [
      "\u001b[1;31m---------------------------------------------------------------------------\u001b[0m",
      "\u001b[1;31mAttributeError\u001b[0m                            Traceback (most recent call last)",
      "Cell \u001b[1;32mIn[12], line 1\u001b[0m\n\u001b[1;32m----> 1\u001b[0m \u001b[43mb\u001b[49m\u001b[38;5;241;43m.\u001b[39;49m\u001b[43mremove\u001b[49m(\u001b[38;5;241m3\u001b[39m)\n",
      "\u001b[1;31mAttributeError\u001b[0m: 'frozenset' object has no attribute 'remove'"
     ]
    }
   ],
   "source": [
    "b.remove(3)"
   ]
  },
  {
   "cell_type": "markdown",
   "metadata": {},
   "source": [
    "The fuction list is similiar to the set list without mutable functions"
   ]
  },
  {
   "cell_type": "markdown",
   "metadata": {},
   "source": [
    "## 2.5 Text Type"
   ]
  },
  {
   "cell_type": "code",
   "execution_count": 50,
   "metadata": {},
   "outputs": [],
   "source": [
    "string_1  = \"Hello world 1\"\n",
    "string_2  = 'Hello world 2'"
   ]
  },
  {
   "cell_type": "code",
   "execution_count": 51,
   "metadata": {},
   "outputs": [
    {
     "name": "stdout",
     "output_type": "stream",
     "text": [
      "string_1 = \"Hello world 1\" and type is <class 'str'>\n",
      "string_2 = 'Hello world 2' and type is <class 'str'>\n"
     ]
    }
   ],
   "source": [
    "print(f\"string_1 = \\\"{string_1}\\\" and type is {type(string_1)}\")\n",
    "print(f\"string_2 = '{string_2}' and type is {type(string_2)}\")"
   ]
  },
  {
   "cell_type": "code",
   "execution_count": 58,
   "metadata": {},
   "outputs": [
    {
     "name": "stdout",
     "output_type": "stream",
     "text": [
      "string_1 elements = ['Hello', 'world', '1']\n",
      "string_2 elements = ['Hello', 'world', '2']\n"
     ]
    }
   ],
   "source": [
    "string_1  = \"Hello world 1\"\n",
    "string_2  = 'Hello_world_2'\n",
    "print(f\"string_1 elements = {string_1.split(sep=' ')}\")\n",
    "print(f\"string_2 elements = {string_2.split(sep='_')}\")"
   ]
  },
  {
   "cell_type": "markdown",
   "metadata": {},
   "source": [
    "!!! Be carefull !!!"
   ]
  },
  {
   "cell_type": "code",
   "execution_count": 35,
   "metadata": {},
   "outputs": [],
   "source": [
    "str = \" Electron paramagnetic resonance (EPR) or electron spin resonance (ESR) spectroscopy is a method for studying materials that have unpaired electrons.\"\n",
    "word_list = str.split()"
   ]
  },
  {
   "cell_type": "code",
   "execution_count": 45,
   "metadata": {},
   "outputs": [
    {
     "name": "stdout",
     "output_type": "stream",
     "text": [
      "Electron resonance or spin (ESR) is method studying that unpaired \n"
     ]
    }
   ],
   "source": [
    "new_str = \"\"\n",
    "for word in word_list[::2]:\n",
    "    new_str += word + ' '\n",
    "print(new_str)"
   ]
  },
  {
   "cell_type": "code",
   "execution_count": 48,
   "metadata": {},
   "outputs": [
    {
     "name": "stdout",
     "output_type": "stream",
     "text": [
      "CPU times: total: 16.3 s\n",
      "Wall time: 16.3 s\n"
     ]
    }
   ],
   "source": [
    "%%time\n",
    "for i in range(10000000):\n",
    "    new_str = \"\"\n",
    "    for word in word_list[::2]:\n",
    "        new_str += word + ' '"
   ]
  },
  {
   "cell_type": "code",
   "execution_count": 49,
   "metadata": {},
   "outputs": [
    {
     "name": "stdout",
     "output_type": "stream",
     "text": [
      "CPU times: total: 2.58 s\n",
      "Wall time: 2.57 s\n"
     ]
    }
   ],
   "source": [
    "%%time\n",
    "for i in range(10000000):\n",
    "    new_str = ' '.join(word_list[::2])"
   ]
  },
  {
   "cell_type": "markdown",
   "metadata": {},
   "source": [
    "#### List of Methods of String\n",
    "\n",
    "`capitalize()`\tConverts the first character to upper case\n",
    "\n",
    "`casefold()`\tConverts string into lower case\n",
    "\n",
    "`center()`\tReturns a centered string\n",
    "\n",
    "`count()`\tReturns the number of times a specified value occurs in a string\n",
    "\n",
    "`encode()`\tReturns an encoded version of the string\n",
    "\n",
    "`endswith()`\tReturns true if the string ends with the specified value\n",
    "\n",
    "`expandtabs()`\tSets the tab size of the string\n",
    "\n",
    "`find()`\tSearches the string for a specified value and returns the position of where it was found\n",
    "\n",
    "`format()`\tFormats specified values in a string\n",
    "\n",
    "`format_map()`\tFormats specified values in a string\n",
    "\n",
    "`index()`\tSearches the string for a specified value and returns the position of where it was found\n",
    "\n",
    "`isalnum()`\tReturns True if all characters in the string are alphanumeric\n",
    "\n",
    "`isalpha()`\tReturns True if all characters in the string are in the alphabet\n",
    "\n",
    "`isascii()`\tReturns True if all characters in the string are ascii characters\n",
    "\n",
    "`isdecimal()`\tReturns True if all characters in the string are decimals\n",
    "\n",
    "`isdigit()`\tReturns True if all characters in the string are digits\n",
    "\n",
    "`isidentifier()`\tReturns True if the string is an identifier\n",
    "\n",
    "`islower()`\tReturns True if all characters in the string are lower case\n",
    "\n",
    "`isnumeric()`\tReturns True if all characters in the string are numeric\n",
    "\n",
    "`isprintable()`\tReturns True if all characters in the string are printable\n",
    "\n",
    "`isspace()`\tReturns True if all characters in the string are whitespaces\n",
    "\n",
    "`istitle()`\tReturns True if the string follows the rules of a title\n",
    "\n",
    "`isupper()`\tReturns True if all characters in the string are upper case\n",
    "\n",
    "`join()`\tConverts the elements of an iterable into a string\n",
    "\n",
    "`ljust()`\tReturns a left justified version of the string\n",
    "\n",
    "`lower()`\tConverts a string into lower case\n",
    "\n",
    "`lstrip()`\tReturns a left trim version of the string\n",
    "\n",
    "`maketrans()`\tReturns a translation table to be used in translations\n",
    "\n",
    "`partition()`\tReturns a tuple where the string is parted into three parts\n",
    "\n",
    "`replace()`\tReturns a string where a specified value is replaced with a specified value\n",
    "\n",
    "`rfind()`\tSearches the string for a specified value and returns the last position of where it was found\n",
    "\n",
    "`rindex()`\tSearches the string for a specified value and returns the last position of where it was found\n",
    "\n",
    "`rjust()`\tReturns a right justified version of the string\n",
    "\n",
    "`rpartition()`\tReturns a tuple where the string is parted into three parts\n",
    "\n",
    "`rsplit()`\tSplits the string at the specified separator, and returns a list\n",
    "\n",
    "`rstrip()`\tReturns a right trim version of the string\n",
    "\n",
    "`split()`\tSplits the string at the specified separator, and returns a list\n",
    "\n",
    "`splitlines()`\tSplits the string at line breaks and returns a list\n",
    "\n",
    "`startswith()`\tReturns true if the string starts with the specified value\n",
    "\n",
    "`strip()`\tReturns a trimmed version of the string\n",
    "\n",
    "`swapcase()`\tSwaps cases, lower case becomes upper case and vice versa\n",
    "\n",
    "`title()`\tConverts the first character of each word to upper case\n",
    "\n",
    "`translate()`\tReturns a translated string\n",
    "\n",
    "`upper()`\tConverts a string into upper case\n",
    "\n",
    "`zfill()`\tFills the string with a specified number of 0 values at the beginning"
   ]
  },
  {
   "cell_type": "markdown",
   "metadata": {},
   "source": [
    "## 2.6 Boolean Type"
   ]
  },
  {
   "cell_type": "code",
   "execution_count": 65,
   "metadata": {},
   "outputs": [
    {
     "name": "stdout",
     "output_type": "stream",
     "text": [
      "foo = True and type is <class 'bool'>\n"
     ]
    }
   ],
   "source": [
    "foo = True #or False\n",
    "print(f'foo = {foo} and type is {type(foo)}')"
   ]
  },
  {
   "cell_type": "code",
   "execution_count": 66,
   "metadata": {},
   "outputs": [
    {
     "name": "stdout",
     "output_type": "stream",
     "text": [
      "foo = True and type is <class 'bool'>\n"
     ]
    }
   ],
   "source": [
    "string = 'Hello world!!!'\n",
    "foo = 'Hello' in string\n",
    "print(f'foo = {foo} and type is {type(foo)}')"
   ]
  },
  {
   "cell_type": "code",
   "execution_count": 68,
   "metadata": {},
   "outputs": [
    {
     "name": "stdout",
     "output_type": "stream",
     "text": [
      "foo = False and type is <class 'bool'>\n"
     ]
    }
   ],
   "source": [
    "ls = [1, 2, 5, 8]\n",
    "foo = 3 in ls\n",
    "print(f'foo = {foo} and type is {type(foo)}')"
   ]
  }
 ],
 "metadata": {
  "kernelspec": {
   "display_name": "Python 3",
   "language": "python",
   "name": "python3"
  },
  "language_info": {
   "codemirror_mode": {
    "name": "ipython",
    "version": 3
   },
   "file_extension": ".py",
   "mimetype": "text/x-python",
   "name": "python",
   "nbconvert_exporter": "python",
   "pygments_lexer": "ipython3",
   "version": "3.13.1"
  },
  "vscode": {
   "interpreter": {
    "hash": "9240d949b7e875368571ba59acc67192d2efbcc4561b3c6f94c83d7858e18732"
   }
  }
 },
 "nbformat": 4,
 "nbformat_minor": 2
}
