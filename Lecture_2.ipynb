{
 "cells": [
  {
   "cell_type": "markdown",
   "metadata": {},
   "source": [
    "# Lecture 2. Data Types"
   ]
  },
  {
   "cell_type": "markdown",
   "metadata": {},
   "source": [
    "- Numeric Types:\tint, float, complex\n",
    "- Sequence Types:\tlist, tuple, range\n",
    "- Mapping Type:\tdict\n",
    "- Set Types:\tset, frozenset\n",
    "- Text Type:\tstr\n",
    "- Boolean Type:\tbool\n",
    "\n",
    "----------------------------------------------\n",
    "Out of our scope:\n",
    "- Binary Types:\tbytes, bytearray, memoryview\n",
    "- None Type:\tNoneType"
   ]
  },
  {
   "cell_type": "markdown",
   "metadata": {},
   "source": [
    "## 2.1 Numeric Types \n",
    "- int - an integer number: `x = 2`\n",
    "- float - a floating-point number: `x = 2.5`\n",
    "- complex - a complex number: `x = 2 + 1j `"
   ]
  },
  {
   "cell_type": "code",
   "execution_count": 1,
   "metadata": {},
   "outputs": [
    {
     "name": "stdout",
     "output_type": "stream",
     "text": [
      "a_int = 5 and type is <class 'int'>\n",
      "b_float = 5.0 and type is <class 'float'>\n"
     ]
    }
   ],
   "source": [
    "a_int = 5\n",
    "b_float = float(a_int)\n",
    "print(f'a_int = {a_int} and type is {type(a_int)}') \n",
    "print(f'b_float = {b_float} and type is {type(b_float)}') "
   ]
  },
  {
   "cell_type": "code",
   "execution_count": 2,
   "metadata": {},
   "outputs": [
    {
     "name": "stdout",
     "output_type": "stream",
     "text": [
      "a = 5 and type is <class 'int'>. id(a) = 140733691593768\n",
      "b = 5 and type is <class 'int'>. id(b) = 140733691593768\n",
      "---------------------------------------------------------\n",
      "a = 4 and type is <class 'int'>. id(a) = 140733691593736\n",
      "b = 5 and type is <class 'int'>. id(b) = 140733691593768\n"
     ]
    }
   ],
   "source": [
    "a = 5\n",
    "b = a\n",
    "print(f'a = {a} and type is {type(a)}. id(a) = {id(a)}') \n",
    "print(f'b = {b} and type is {type(b)}. id(b) = {id(b)}')\n",
    "print('---------------------------------------------------------')\n",
    "a = 4\n",
    "print(f'a = {a} and type is {type(a)}. id(a) = {id(a)}') \n",
    "print(f'b = {b} and type is {type(b)}. id(b) = {id(b)}') "
   ]
  },
  {
   "cell_type": "code",
   "execution_count": 3,
   "metadata": {},
   "outputs": [
    {
     "name": "stdout",
     "output_type": "stream",
     "text": [
      "a = 5 and type is <class 'int'>. id(a) = 140733691593768\n",
      "b = 5 and type is <class 'int'>. id(b) = 140733691593768\n",
      "---------------------------------------------------------\n",
      "a = 5 and type is <class 'int'>. id(a) = 140733691593768\n",
      "b = 4 and type is <class 'int'>. id(b) = 140733691593736\n"
     ]
    }
   ],
   "source": [
    "a = 5\n",
    "b = a\n",
    "print(f'a = {a} and type is {type(a)}. id(a) = {id(a)}') \n",
    "print(f'b = {b} and type is {type(b)}. id(b) = {id(b)}')\n",
    "print('---------------------------------------------------------')\n",
    "b = 4\n",
    "print(f'a = {a} and type is {type(a)}. id(a) = {id(a)}') \n",
    "print(f'b = {b} and type is {type(b)}. id(b) = {id(b)}') "
   ]
  },
  {
   "cell_type": "code",
   "execution_count": 1,
   "metadata": {},
   "outputs": [
    {
     "name": "stdout",
     "output_type": "stream",
     "text": [
      "a = 3.14\n",
      "b = 3\n",
      "c = 3.1\n"
     ]
    }
   ],
   "source": [
    "a = 3.14\n",
    "b = int(a)\n",
    "c = round(a, 1)\n",
    "\n",
    "print(f'a = {a}')\n",
    "print(f'b = {b}')\n",
    "print(f'c = {c}')"
   ]
  },
  {
   "cell_type": "code",
   "execution_count": null,
   "metadata": {},
   "outputs": [
    {
     "name": "stdout",
     "output_type": "stream",
     "text": [
      "a = 3.8\n",
      "b = 3.2\n"
     ]
    }
   ],
   "source": [
    "a = 3.78\n",
    "b = 3.25\n",
    "print(f'a = {round(a, 1)}')\n",
    "print(f'b = {round(b, 1)}')"
   ]
  },
  {
   "cell_type": "code",
   "execution_count": 41,
   "metadata": {},
   "outputs": [
    {
     "name": "stdout",
     "output_type": "stream",
     "text": [
      "a = 4\n",
      "b = 4\n",
      "c = 6\n"
     ]
    }
   ],
   "source": [
    "a = 3.5\n",
    "b = 4.5\n",
    "с = 5.5\n",
    "print(f'a = {round(a)}')\n",
    "print(f'b = {round(b)}')\n",
    "print(f'c = {round(с)}')"
   ]
  },
  {
   "cell_type": "code",
   "execution_count": 42,
   "metadata": {},
   "outputs": [
    {
     "name": "stdout",
     "output_type": "stream",
     "text": [
      "a = 3\n",
      "b = 4\n",
      "c = 4\n",
      "d = 5\n"
     ]
    }
   ],
   "source": [
    "a = 3.4\n",
    "b = 3.6\n",
    "с = 4.4\n",
    "d = 4.6\n",
    "print(f'a = {round(a)}')\n",
    "print(f'b = {round(b)}')\n",
    "print(f'c = {round(с)}')\n",
    "print(f'd = {round(d)}')"
   ]
  },
  {
   "cell_type": "code",
   "execution_count": null,
   "metadata": {},
   "outputs": [
    {
     "name": "stdout",
     "output_type": "stream",
     "text": [
      "round(a) = 2\n",
      "m.ceil(a) = 3\n",
      "m.floor(a) = 2\n",
      "int(a) = 2\n"
     ]
    }
   ],
   "source": [
    "import math as m\n",
    "\n",
    "\n",
    "a = 2.345\n",
    "print(f'round(a) = {round(a)}') # BE CAREFUL ROUNDING USING FINANCIAL ROUNDING\n",
    "print(f'm.ceil(a) = {m.ceil(a)}') # rounds up and returns the smallest integer greater than or equal to a given number\n",
    "print(f'm.floor(a) = {m.floor(a)}') # rounds down and returns the largest integer less than or equal to a given numbe\n",
    "print(f'int(a) = {int(a)}') # converts a decimal (floating-point) number to its integer part by truncating the fractional part"
   ]
  },
  {
   "cell_type": "code",
   "execution_count": null,
   "metadata": {},
   "outputs": [
    {
     "name": "stdout",
     "output_type": "stream",
     "text": [
      "a // b = 2\n",
      "a % b = 1\n",
      "a / b = 2.333\n"
     ]
    }
   ],
   "source": [
    "a = 7\n",
    "b = 3\n",
    "\n",
    "print(f'a // b = {a // b}') # floor division\n",
    "print(f'a % b = {a % b}') # returns the remainder of a division operation\n",
    "print(f'a / b = {(a / b):.3f}') # true devision"
   ]
  },
  {
   "cell_type": "code",
   "execution_count": 8,
   "metadata": {},
   "outputs": [
    {
     "name": "stdout",
     "output_type": "stream",
     "text": [
      "(3+5j)\n"
     ]
    }
   ],
   "source": [
    "a = 3 + 5j\n",
    "print(a)"
   ]
  },
  {
   "cell_type": "code",
   "execution_count": 9,
   "metadata": {},
   "outputs": [
    {
     "name": "stdout",
     "output_type": "stream",
     "text": [
      "(3-5j)\n"
     ]
    }
   ],
   "source": [
    "print(a.conjugate())"
   ]
  },
  {
   "cell_type": "code",
   "execution_count": 10,
   "metadata": {},
   "outputs": [
    {
     "name": "stdout",
     "output_type": "stream",
     "text": [
      " Real(a) = 3.0\n",
      " Im(a) = 5.0\n"
     ]
    }
   ],
   "source": [
    "print(f\" Real(a) = {a.real}\\n Im(a) = {a.imag}\")"
   ]
  },
  {
   "cell_type": "code",
   "execution_count": 11,
   "metadata": {},
   "outputs": [
    {
     "name": "stdout",
     "output_type": "stream",
     "text": [
      " Abs(a) = 5.830951894845301\n"
     ]
    }
   ],
   "source": [
    "print(f\" Abs(a) = {abs(a)}\")"
   ]
  },
  {
   "cell_type": "code",
   "execution_count": 12,
   "metadata": {},
   "outputs": [
    {
     "data": {
      "text/plain": [
       "5.830951894845301"
      ]
     },
     "execution_count": 12,
     "metadata": {},
     "output_type": "execute_result"
    }
   ],
   "source": [
    "abs(a.conjugate() * a)**0.5"
   ]
  },
  {
   "cell_type": "markdown",
   "metadata": {},
   "source": [
    "Integer, float, string and complex are IMMUTABLE data types"
   ]
  },
  {
   "cell_type": "markdown",
   "metadata": {},
   "source": [
    "## 2.2 Sequence, Mapping and Set Types"
   ]
  },
  {
   "cell_type": "markdown",
   "metadata": {},
   "source": [
    "- list `list()` or `[]`: list of elemets [1, 2, 3], [1, 2, 3.14] or [1, 2.78, 'hello world!!!']\n",
    "- tuple `tuple()` or `()`: tuple of elements (1, 2, 3), (1,2, 3.14) or (1, 2.78, 'hello world!!!')\n",
    "- range `range()`: `range(5)`->0, 1, 2, 3, 4; `range(1,5)`-> 1, 2, 3, 4; `range(1,5,2)`-> 1, 3"
   ]
  },
  {
   "cell_type": "markdown",
   "metadata": {},
   "source": [
    "### 2.2.1 List\n",
    "List is a collection which is ordered and changeable. Allows duplicate members."
   ]
  },
  {
   "cell_type": "code",
   "execution_count": 8,
   "metadata": {},
   "outputs": [
    {
     "name": "stdout",
     "output_type": "stream",
     "text": [
      "<class 'list'>\n"
     ]
    }
   ],
   "source": [
    "ls = [1, 2, 4, 5]\n",
    "print(type(ls))"
   ]
  },
  {
   "cell_type": "code",
   "execution_count": 9,
   "metadata": {},
   "outputs": [
    {
     "name": "stdout",
     "output_type": "stream",
     "text": [
      "[1, 2, 4, 5, 3, 4, 6]\n"
     ]
    }
   ],
   "source": [
    "# create one list\n",
    "a = [1, 2, 4, 5]\n",
    "b = [3, 4, 6]\n",
    "c = a + b\n",
    "print(c)"
   ]
  },
  {
   "cell_type": "code",
   "execution_count": 2,
   "metadata": {},
   "outputs": [
    {
     "ename": "TypeError",
     "evalue": "unsupported operand type(s) for -: 'list' and 'list'",
     "output_type": "error",
     "traceback": [
      "\u001b[1;31m---------------------------------------------------------------------------\u001b[0m",
      "\u001b[1;31mTypeError\u001b[0m                                 Traceback (most recent call last)",
      "Cell \u001b[1;32mIn[2], line 3\u001b[0m\n\u001b[0;32m      1\u001b[0m a \u001b[39m=\u001b[39m [\u001b[39m1\u001b[39m, \u001b[39m2\u001b[39m, \u001b[39m4\u001b[39m, \u001b[39m5\u001b[39m]\n\u001b[0;32m      2\u001b[0m b \u001b[39m=\u001b[39m [\u001b[39m3\u001b[39m, \u001b[39m4\u001b[39m, \u001b[39m6\u001b[39m]\n\u001b[1;32m----> 3\u001b[0m c \u001b[39m=\u001b[39m a \u001b[39m-\u001b[39;49m b\n\u001b[0;32m      4\u001b[0m \u001b[39mprint\u001b[39m(a \u001b[39m-\u001b[39m b)\n",
      "\u001b[1;31mTypeError\u001b[0m: unsupported operand type(s) for -: 'list' and 'list'"
     ]
    }
   ],
   "source": [
    "a = [1, 2, 4, 5]\n",
    "b = [3, 4, 6]\n",
    "c = a - b\n",
    "print(a - b)"
   ]
  },
  {
   "cell_type": "code",
   "execution_count": 3,
   "metadata": {},
   "outputs": [
    {
     "name": "stdout",
     "output_type": "stream",
     "text": [
      "[1, 2, 4, 5, 1, 2, 4, 5]\n"
     ]
    }
   ],
   "source": [
    "c = a * 2 #creat doubled list \"a\"\n",
    "print(c)"
   ]
  },
  {
   "cell_type": "code",
   "execution_count": 5,
   "metadata": {},
   "outputs": [],
   "source": [
    "a = [1, 2, 3]\n",
    "b= a"
   ]
  },
  {
   "cell_type": "code",
   "execution_count": 6,
   "metadata": {},
   "outputs": [],
   "source": [
    "a = a *2"
   ]
  },
  {
   "cell_type": "code",
   "execution_count": 8,
   "metadata": {},
   "outputs": [
    {
     "data": {
      "text/plain": [
       "[1, 2, 3]"
      ]
     },
     "execution_count": 8,
     "metadata": {},
     "output_type": "execute_result"
    }
   ],
   "source": [
    "b"
   ]
  },
  {
   "cell_type": "code",
   "execution_count": null,
   "metadata": {},
   "outputs": [
    {
     "name": "stdout",
     "output_type": "stream",
     "text": [
      "[1, 1, 1, 1, 1]\n"
     ]
    }
   ],
   "source": [
    "c = [1] * 5 #create list with 5 element equal to 1\n",
    "print(c)"
   ]
  },
  {
   "cell_type": "code",
   "execution_count": null,
   "metadata": {},
   "outputs": [
    {
     "name": "stdout",
     "output_type": "stream",
     "text": [
      "[1, 1, 1, 1, 1, 5]\n"
     ]
    }
   ],
   "source": [
    "c.append(5) # add element to the end\n",
    "print(c)"
   ]
  },
  {
   "cell_type": "code",
   "execution_count": null,
   "metadata": {},
   "outputs": [
    {
     "name": "stdout",
     "output_type": "stream",
     "text": [
      "ls = [4, 1, 2]\n"
     ]
    }
   ],
   "source": [
    "ls = [4, 5, 1, 2]\n",
    "ls.remove(5) # remove element by value\n",
    "print(f'ls = {ls}')"
   ]
  },
  {
   "cell_type": "code",
   "execution_count": 9,
   "metadata": {},
   "outputs": [
    {
     "name": "stdout",
     "output_type": "stream",
     "text": [
      "ls = [4, 1, 2, 5]\n"
     ]
    }
   ],
   "source": [
    "ls = [4, 5, 1, 2, 5]\n",
    "ls.remove(5) # remove element by value\n",
    "print(f'ls = {ls}')"
   ]
  },
  {
   "cell_type": "code",
   "execution_count": null,
   "metadata": {},
   "outputs": [],
   "source": []
  },
  {
   "cell_type": "code",
   "execution_count": null,
   "metadata": {},
   "outputs": [
    {
     "ename": "ValueError",
     "evalue": "list.remove(x): x not in list",
     "output_type": "error",
     "traceback": [
      "\u001b[1;31m---------------------------------------------------------------------------\u001b[0m",
      "\u001b[1;31mValueError\u001b[0m                                Traceback (most recent call last)",
      "Cell \u001b[1;32mIn[104], line 1\u001b[0m\n\u001b[1;32m----> 1\u001b[0m \u001b[43mls\u001b[49m\u001b[38;5;241;43m.\u001b[39;49m\u001b[43mremove\u001b[49m\u001b[43m(\u001b[49m\u001b[38;5;241;43m5\u001b[39;49m\u001b[43m)\u001b[49m\n\u001b[0;32m      2\u001b[0m \u001b[38;5;28mprint\u001b[39m(\u001b[38;5;124mf\u001b[39m\u001b[38;5;124m'\u001b[39m\u001b[38;5;124mls = \u001b[39m\u001b[38;5;132;01m{\u001b[39;00mls\u001b[38;5;132;01m}\u001b[39;00m\u001b[38;5;124m'\u001b[39m)\n",
      "\u001b[1;31mValueError\u001b[0m: list.remove(x): x not in list"
     ]
    }
   ],
   "source": [
    "ls.remove(5)\n",
    "print(f'ls = {ls}')"
   ]
  },
  {
   "cell_type": "code",
   "execution_count": 11,
   "metadata": {},
   "outputs": [
    {
     "name": "stdout",
     "output_type": "stream",
     "text": [
      "ls = [4, 5, 2]\n"
     ]
    }
   ],
   "source": [
    "ls = [4, 5, 1, 2]\n",
    "ls.pop(2) # remove element by index\n",
    "print(f'ls = {ls}')"
   ]
  },
  {
   "cell_type": "code",
   "execution_count": 12,
   "metadata": {},
   "outputs": [
    {
     "name": "stdout",
     "output_type": "stream",
     "text": [
      "ls = []\n"
     ]
    }
   ],
   "source": [
    "ls.clear() # clear the list\n",
    "print(f'ls = {ls}')"
   ]
  },
  {
   "cell_type": "code",
   "execution_count": 13,
   "metadata": {},
   "outputs": [
    {
     "name": "stdout",
     "output_type": "stream",
     "text": [
      "ls[0] = 1\n"
     ]
    }
   ],
   "source": [
    "ls = [4, 5, 1, 2]\n",
    "print(f'ls[0] = {a[0]}') #print zero element"
   ]
  },
  {
   "cell_type": "code",
   "execution_count": 10,
   "metadata": {},
   "outputs": [
    {
     "name": "stdout",
     "output_type": "stream",
     "text": [
      "ls[-2] = 2\n"
     ]
    }
   ],
   "source": [
    "ls = [4, 5, 1, 2]\n",
    "print(f'ls[-2] = {a[-2]}') #print -2nd element"
   ]
  },
  {
   "cell_type": "code",
   "execution_count": 15,
   "metadata": {},
   "outputs": [
    {
     "name": "stdout",
     "output_type": "stream",
     "text": [
      "ls = [1, 2, 4, 5]\n"
     ]
    }
   ],
   "source": [
    "ls = [4, 5, 1, 2]\n",
    "ls.insert(3, 0) # insert index in the 3rd place\n",
    "print(f'ls = {a}')"
   ]
  },
  {
   "cell_type": "code",
   "execution_count": 11,
   "metadata": {},
   "outputs": [
    {
     "name": "stdout",
     "output_type": "stream",
     "text": [
      "ls = [5, 1, 2, 5]\n"
     ]
    }
   ],
   "source": [
    "ls = [4, 5, 1, 2, 5]\n",
    "print(f'ls = {ls[1:]}') # print from 1st element to the end, NOT modified the list a "
   ]
  },
  {
   "cell_type": "code",
   "execution_count": 16,
   "metadata": {},
   "outputs": [],
   "source": [
    "a  = ls[3:].remove(5)"
   ]
  },
  {
   "cell_type": "code",
   "execution_count": 15,
   "metadata": {},
   "outputs": [
    {
     "data": {
      "text/plain": [
       "[4, 5, 1, 2, 5]"
      ]
     },
     "execution_count": 15,
     "metadata": {},
     "output_type": "execute_result"
    }
   ],
   "source": [
    "ls"
   ]
  },
  {
   "cell_type": "code",
   "execution_count": 20,
   "metadata": {},
   "outputs": [
    {
     "name": "stdout",
     "output_type": "stream",
     "text": [
      "ls = [4, 1, 5]\n"
     ]
    }
   ],
   "source": [
    "ls = [4, 5, 1, 2, 5]\n",
    "print(f'ls = {ls[0::2]}') # print every 2nd element from the zero element, NOT modified the list a "
   ]
  },
  {
   "cell_type": "code",
   "execution_count": 18,
   "metadata": {},
   "outputs": [
    {
     "name": "stdout",
     "output_type": "stream",
     "text": [
      "ls = [4, 5]\n"
     ]
    }
   ],
   "source": [
    "print(f'ls = {ls[:-2]}') # print from the zero element to -2nd element, NOT modified the list a "
   ]
  },
  {
   "cell_type": "code",
   "execution_count": 19,
   "metadata": {},
   "outputs": [
    {
     "name": "stdout",
     "output_type": "stream",
     "text": [
      "ls = [1, 2, 4, 5]\n"
     ]
    }
   ],
   "source": [
    "ls = [4, 5, 1, 2]\n",
    "ls.sort() # sort list ls\n",
    "print(f'ls = {ls}')"
   ]
  },
  {
   "cell_type": "code",
   "execution_count": 20,
   "metadata": {},
   "outputs": [
    {
     "name": "stdout",
     "output_type": "stream",
     "text": [
      "mat = [[1, 2], [3, 1], [5, 0]]\n"
     ]
    }
   ],
   "source": [
    "mat = [[1,2], [5, 0], [3, 1]]\n",
    "mat.sort(key=lambda x: x[0]) #by the first element\n",
    "print(f'mat = {mat}')"
   ]
  },
  {
   "cell_type": "code",
   "execution_count": 21,
   "metadata": {},
   "outputs": [
    {
     "name": "stdout",
     "output_type": "stream",
     "text": [
      "mat = [[1, 2], [3, 1], [5, 0]]\n"
     ]
    }
   ],
   "source": [
    "mat = [[1,2], [5, 0], [3, 1]]\n",
    "mat.sort(key=lambda x: x[1], reverse=True) #by the second element and in reverse order\n",
    "print(f'mat = {mat}')"
   ]
  },
  {
   "cell_type": "code",
   "execution_count": 21,
   "metadata": {},
   "outputs": [],
   "source": [
    "list_a = [['sting1', 2]]"
   ]
  },
  {
   "cell_type": "code",
   "execution_count": 23,
   "metadata": {},
   "outputs": [],
   "source": [
    "list_a.append(3)"
   ]
  },
  {
   "cell_type": "code",
   "execution_count": 25,
   "metadata": {},
   "outputs": [
    {
     "data": {
      "text/plain": [
       "[['sting1', 2], 3]"
      ]
     },
     "execution_count": 25,
     "metadata": {},
     "output_type": "execute_result"
    }
   ],
   "source": [
    "list_a"
   ]
  },
  {
   "cell_type": "code",
   "execution_count": 22,
   "metadata": {},
   "outputs": [
    {
     "name": "stdout",
     "output_type": "stream",
     "text": [
      "a = [1, 2, 5, 9]\n",
      "b = [1, 2, 5, 9]\n"
     ]
    }
   ],
   "source": [
    "a = [1, 2, 5, 9]\n",
    "b = a\n",
    "print(f'a = {a}\\nb = {b}')"
   ]
  },
  {
   "cell_type": "code",
   "execution_count": 23,
   "metadata": {},
   "outputs": [
    {
     "name": "stdout",
     "output_type": "stream",
     "text": [
      "a = [1, 2, 5, 9, 0]\n",
      "b = [1, 2, 5, 9, 0]\n"
     ]
    }
   ],
   "source": [
    "b.append(0)\n",
    "print(f'a = {a}\\nb = {b}')"
   ]
  },
  {
   "cell_type": "code",
   "execution_count": 24,
   "metadata": {},
   "outputs": [
    {
     "name": "stdout",
     "output_type": "stream",
     "text": [
      "id(a) = 2590168158144\n",
      "id(b) = 2590168158144\n"
     ]
    }
   ],
   "source": [
    "print(f'id(a) = {id(a)}\\nid(b) = {id(b)}')"
   ]
  },
  {
   "cell_type": "code",
   "execution_count": 25,
   "metadata": {},
   "outputs": [
    {
     "name": "stdout",
     "output_type": "stream",
     "text": [
      "a = [1, 2, 5, 9]\n",
      "b = [1, 2, 5, 9, 0]\n",
      "id(a) = 2590168269824\n",
      "id(b) = 2590168276544\n"
     ]
    }
   ],
   "source": [
    "a = [1, 2, 5, 9]\n",
    "b = a.copy()\n",
    "b.append(0)\n",
    "print(f'a = {a}\\nb = {b}')\n",
    "print(f'id(a) = {id(a)}\\nid(b) = {id(b)}')"
   ]
  },
  {
   "cell_type": "code",
   "execution_count": 28,
   "metadata": {},
   "outputs": [
    {
     "name": "stdout",
     "output_type": "stream",
     "text": [
      "100 200 500 900\n"
     ]
    }
   ],
   "source": [
    "def mult100(x: int)-> int:\n",
    "    return 100*x\n",
    "\n",
    "\n",
    "a = [1, 2, 5, 9]\n",
    "b = list(map(mult100, a))\n",
    "print(*b)\n",
    "print(b[0], b[1], b[2])"
   ]
  },
  {
   "cell_type": "code",
   "execution_count": 30,
   "metadata": {},
   "outputs": [
    {
     "name": "stdout",
     "output_type": "stream",
     "text": [
      "1 2 3\n"
     ]
    }
   ],
   "source": [
    "arr = [1,2,3]\n",
    "a, b, c = arr\n",
    "print(a, b,c)"
   ]
  },
  {
   "cell_type": "code",
   "execution_count": 57,
   "metadata": {},
   "outputs": [
    {
     "name": "stdout",
     "output_type": "stream",
     "text": [
      "(1, 9) (2, 8) (3, 7) (4, 6)\n"
     ]
    }
   ],
   "source": [
    "a = [1, 2, 3, 4]\n",
    "b = [9, 8, 7 ,6]\n",
    "c = list(zip(a, b))\n",
    "print(*c)"
   ]
  },
  {
   "cell_type": "code",
   "execution_count": 58,
   "metadata": {},
   "outputs": [
    {
     "name": "stdout",
     "output_type": "stream",
     "text": [
      "(1, 9) (2, 8) (3, 7) (4, 6)\n"
     ]
    }
   ],
   "source": [
    "a = [1, 2, 3, 4, 5, 6]\n",
    "b = [9, 8, 7 ,6]\n",
    "c = list(zip(a, b))\n",
    "print(*c)"
   ]
  },
  {
   "cell_type": "code",
   "execution_count": 59,
   "metadata": {},
   "outputs": [
    {
     "name": "stdout",
     "output_type": "stream",
     "text": [
      "(1, 9) (2, 8) (3, 7) (4, 6)\n"
     ]
    }
   ],
   "source": [
    "a = [1, 2, 3, 4]\n",
    "b = [9, 8, 7, 6, 5]\n",
    "c = list(zip(a, b))\n",
    "print(*c)"
   ]
  },
  {
   "cell_type": "markdown",
   "metadata": {},
   "source": [
    "#### List of Methods of List\n",
    "\n",
    "`append()`\tAdds an element at the end of the list\n",
    "\n",
    "`clear()`\tRemoves all the elements from the list\n",
    "\n",
    "`copy()`\tReturns a copy of the list\n",
    "\n",
    "`count()`\tReturns the number of elements with the specified value\n",
    "\n",
    "`extend()`\tAdd the elements of a list (or any iterable), to the end of the current list\n",
    "\n",
    "`index()`\tReturns the index of the first element with the specified value\n",
    "\n",
    "`insert()`\tAdds an element at the specified position\n",
    "\n",
    "`pop()`\t    Removes the element at the specified position\n",
    "\n",
    "`remove()`\tRemoves the first item with the specified value\n",
    "\n",
    "`reverse()`\tReverses the order of the list\n",
    "\n",
    "`sort()`   \tSorts the list"
   ]
  }
 ],
 "metadata": {
  "kernelspec": {
   "display_name": "Python 3",
   "language": "python",
   "name": "python3"
  },
  "language_info": {
   "codemirror_mode": {
    "name": "ipython",
    "version": 3
   },
   "file_extension": ".py",
   "mimetype": "text/x-python",
   "name": "python",
   "nbconvert_exporter": "python",
   "pygments_lexer": "ipython3",
   "version": "3.13.1"
  },
  "vscode": {
   "interpreter": {
    "hash": "9240d949b7e875368571ba59acc67192d2efbcc4561b3c6f94c83d7858e18732"
   }
  }
 },
 "nbformat": 4,
 "nbformat_minor": 2
}
