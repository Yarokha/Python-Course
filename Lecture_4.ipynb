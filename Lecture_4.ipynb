{
 "cells": [
  {
   "cell_type": "markdown",
   "metadata": {},
   "source": [
    "# Lecture 4. Branching statements"
   ]
  },
  {
   "cell_type": "markdown",
   "metadata": {},
   "source": [
    "## 4.1 if ... elif ... else"
   ]
  },
  {
   "cell_type": "markdown",
   "metadata": {},
   "source": [
    "Python supports the usual logical conditions from mathematics:\n",
    "\n",
    "- Equals: `a == b`\n",
    "- Not Equals: `a != b`\n",
    "- Less than: `a < b`\n",
    "- Less than or equal to: `a <= b`\n",
    "- Greater than: `a > b`\n",
    "- Greater than or equal to: `a >= b`"
   ]
  },
  {
   "cell_type": "code",
   "execution_count": 1,
   "metadata": {},
   "outputs": [
    {
     "name": "stdout",
     "output_type": "stream",
     "text": [
      "a = 5 and positive\n"
     ]
    }
   ],
   "source": [
    "a = 5\n",
    "\n",
    "if a < 0:\n",
    "    print (f\"a = {a} and negative\")\n",
    "elif a > 0:\n",
    "    print (f\"a = {a} and positive\")\n",
    "    "
   ]
  },
  {
   "cell_type": "code",
   "execution_count": 8,
   "metadata": {},
   "outputs": [
    {
     "name": "stdout",
     "output_type": "stream",
     "text": [
      "a = 5.5 -> float\n"
     ]
    }
   ],
   "source": [
    "# a = 5 # int\n",
    "a = 5.5 # float\n",
    "# a = \"Hello world!!!\" # string -> unknown type\n",
    "\n",
    "type_a = type(a)\n",
    "if type_a == int:\n",
    "    print (f\"a = {a} -> int\")\n",
    "elif type_a == float:\n",
    "    print (f\"a = {a} -> float\")\n",
    "else:\n",
    "    print (f\"a = {a} -> unknown type\")"
   ]
  },
  {
   "cell_type": "markdown",
   "metadata": {},
   "source": [
    "The `not` keyword is a logical operator, and is used to reverse the result of the conditional statement\n",
    "\n",
    "The `and` keyword is a logical operator\n",
    "\n",
    "The `or` keyword is a logical operator, and is used to combine conditional statements:"
   ]
  },
  {
   "cell_type": "markdown",
   "metadata": {},
   "source": [
    "The `pass` statement to avoid getting an error."
   ]
  },
  {
   "cell_type": "markdown",
   "metadata": {},
   "source": [
    "## 4.2 match ... case"
   ]
  },
  {
   "cell_type": "code",
   "execution_count": 18,
   "metadata": {},
   "outputs": [
    {
     "name": "stdout",
     "output_type": "stream",
     "text": [
      "a = 3\n"
     ]
    }
   ],
   "source": [
    "a = 3\n",
    "match (a):\n",
    "    case 1:\n",
    "        print (f\"a = {a}\")\n",
    "    case 2:\n",
    "        print (f\"a = {a}\")\n",
    "    case 3:\n",
    "        print (f\"a = {a}\")\n",
    "    case _:\n",
    "        print(\"a > 3\")\n"
   ]
  },
  {
   "cell_type": "code",
   "execution_count": null,
   "metadata": {},
   "outputs": [
    {
     "name": "stdout",
     "output_type": "stream",
     "text": [
      "a > 3\n"
     ]
    }
   ],
   "source": [
    "a = 5\n",
    "match (a):\n",
    "    case 1 | 2 | 3:\n",
    "        print (f\"a = {a}\")\n",
    "    case _:\n",
    "        print(\"a > 3\")\n"
   ]
  },
  {
   "cell_type": "code",
   "execution_count": 22,
   "metadata": {},
   "outputs": [
    {
     "name": "stdout",
     "output_type": "stream",
     "text": [
      "a > 3\n"
     ]
    }
   ],
   "source": [
    "# equivalent to above\n",
    "if a > 0 and a < 4:\n",
    "    print (f\"a = {a}\")\n",
    "else:\n",
    "    print(\"a > 3\")"
   ]
  },
  {
   "cell_type": "markdown",
   "metadata": {},
   "source": [
    "## 4.3 Short Hand If ... Else"
   ]
  },
  {
   "cell_type": "code",
   "execution_count": 24,
   "metadata": {},
   "outputs": [
    {
     "name": "stdout",
     "output_type": "stream",
     "text": [
      "a = 3\n"
     ]
    }
   ],
   "source": [
    "a = 3\n",
    "print(f\"a = {a}\") if a < 4 else print(\"a > 3\")"
   ]
  },
  {
   "cell_type": "markdown",
   "metadata": {},
   "source": [
    "## TASK # 4.1"
   ]
  },
  {
   "cell_type": "markdown",
   "metadata": {},
   "source": [
    "Write a program which will type the number n by words\n",
    "\n",
    "n = [0, 1000)\n",
    "\n",
    "**Example**:\n",
    "\n",
    "*input:* 23\n",
    "\n",
    "*output:* twenty three"
   ]
  },
  {
   "cell_type": "markdown",
   "metadata": {},
   "source": []
  }
 ],
 "metadata": {
  "kernelspec": {
   "display_name": "Python 3",
   "language": "python",
   "name": "python3"
  },
  "language_info": {
   "codemirror_mode": {
    "name": "ipython",
    "version": 3
   },
   "file_extension": ".py",
   "mimetype": "text/x-python",
   "name": "python",
   "nbconvert_exporter": "python",
   "pygments_lexer": "ipython3",
   "version": "3.13.1"
  }
 },
 "nbformat": 4,
 "nbformat_minor": 2
}
