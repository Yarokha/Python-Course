{
 "cells": [
  {
   "cell_type": "markdown",
   "metadata": {},
   "source": [
    "# TEST_0"
   ]
  },
  {
   "cell_type": "markdown",
   "metadata": {},
   "source": [
    "# Lecture 0. Introduction"
   ]
  },
  {
   "cell_type": "markdown",
   "metadata": {},
   "source": [
    "## Course Topics\n",
    "0.\tIntroduction\n",
    "\n",
    "1.\tStandard Input/Output\n",
    "2.\tData Types\n",
    "3.\tBranching statements\n",
    "4.\tLoops\n",
    "5.\tFunctions\n",
    "6.\tIntroduction to OOP\n",
    "7.\tWorking with Files\n",
    "8.\tCompound Types\n",
    "9.\tFigure Plotting\n",
    "10.\tInstrumental Protocols\n",
    "11.\tSympy is WolframAlpha in Python\n",
    "12.\tOpenCV\n",
    "13. Algorithms"
   ]
  },
  {
   "cell_type": "markdown",
   "metadata": {},
   "source": [
    "## Python <div>\n",
    "<img src=\"https://upload.wikimedia.org/wikipedia/commons/thumb/c/c3/Python-logo-notext.svg/800px-Python-logo-notext.svg.png\" height=\"100\">\n",
    "</div> \n",
    "\n",
    "Python 3.13.7 is the last version on  2025-09-04 . The [link](https://www.python.org/downloads/) to download."
   ]
  },
  {
   "cell_type": "markdown",
   "metadata": {},
   "source": [
    "## Anaconda\n",
    "<div>\n",
    "<img src=\"https://www.anaconda.com/wp-content/uploads/2024/11/2020_Anaconda_Logo_RGB_Corporate.png\" height=\"75\">\n",
    "</div>\n",
    "\n",
    "Anaconda3-2025.06-0 (Python 3.13) is the last version on  2025-09-04. The [link](https://www.anaconda.com/download/success) to download."
   ]
  },
  {
   "cell_type": "markdown",
   "metadata": {},
   "source": [
    "## IDEs"
   ]
  },
  {
   "cell_type": "markdown",
   "metadata": {},
   "source": [
    "<img src=\"https://upload.wikimedia.org/wikipedia/commons/7/7e/Spyder_logo.svg\" height=\"100\">\n",
    "Spyder"
   ]
  },
  {
   "cell_type": "markdown",
   "metadata": {},
   "source": [
    "\n",
    "<img src=\"https://upload.wikimedia.org/wikipedia/commons/thumb/3/38/Jupyter_logo.svg/1200px-Jupyter_logo.svg.png\" height=\"100\">\n",
    "Jupyter Notebook or Jupyter Lab"
   ]
  },
  {
   "cell_type": "markdown",
   "metadata": {},
   "source": [
    "\n",
    "<img src=\"https://upload.wikimedia.org/wikipedia/commons/thumb/1/1d/PyCharm_Icon.svg/2048px-PyCharm_Icon.svg.png\" height=\"100\">\n",
    "Pycharm"
   ]
  },
  {
   "cell_type": "markdown",
   "metadata": {},
   "source": [
    "<img src=\"https://upload.wikimedia.org/wikipedia/commons/thumb/9/9a/Visual_Studio_Code_1.35_icon.svg/800px-Visual_Studio_Code_1.35_icon.svg.png\" height=\"100\"> VS Code\n"
   ]
  },
  {
   "cell_type": "markdown",
   "metadata": {},
   "source": [
    "## PEP 8 – Style Guide for Python Code"
   ]
  },
  {
   "cell_type": "markdown",
   "metadata": {},
   "source": [
    "- PEP 8 is a guide for writing clean, readable, and consistent Python code.\n",
    "\n",
    "- PEP 8 is still relevant in modern Python development.\n",
    "\n",
    "- Following PEP 8 is recommended for all Python developers.\n",
    "\n",
    "- Python uses snake case for variable names—lowercase words separated by underscores.\n",
    "\n",
    "- Python function names should also use snake case.\n",
    "\n",
    "- Class names in Python use camel case, with each word starting with a capital letter."
   ]
  },
  {
   "cell_type": "markdown",
   "metadata": {},
   "source": [
    "C++\n",
    "```cpp\n",
    "if (a == b) {\n",
    "    if (a > 5) {\n",
    "        a += b;\n",
    "    }\n",
    "}\n",
    "````\n",
    "\n",
    "Python\n",
    "```python\n",
    "if a == b:\n",
    "    if a > 5:\n",
    "        a += b\n",
    "````\n"
   ]
  },
  {
   "cell_type": "markdown",
   "metadata": {},
   "source": [
    "## The Python Standard Library"
   ]
  },
  {
   "cell_type": "markdown",
   "metadata": {},
   "source": [
    "### Numeric and Mathematical Modules\n",
    "- `numbers` — Numeric abstract base classes\n",
    "\n",
    "- `math` — Mathematical functions\n",
    "\n",
    "- `cmath` — Mathematical functions for complex numbers\n",
    "\n",
    "- `decimal` — Decimal fixed-point and floating-point arithmetic\n",
    "\n",
    "- `fractions` — Rational numbers\n",
    "\n",
    "- `random` — Generate pseudo-random numbers\n",
    "\n",
    "- `statistics` — Mathematical statistics functions"
   ]
  },
  {
   "cell_type": "markdown",
   "metadata": {},
   "source": [
    "## Module installation "
   ]
  },
  {
   "cell_type": "markdown",
   "metadata": {},
   "source": [
    "### pip"
   ]
  },
  {
   "cell_type": "markdown",
   "metadata": {},
   "source": [
    "To install modules from repositories use such construction:\n",
    "\n",
    "!pip install pack"
   ]
  },
  {
   "cell_type": "code",
   "execution_count": null,
   "metadata": {},
   "outputs": [
    {
     "name": "stdout",
     "output_type": "stream",
     "text": [
      "Requirement already satisfied: numpy in c:\\users\\yarok\\appdata\\local\\programs\\python\\python313\\lib\\site-packages (2.1.3)\n",
      "Requirement already satisfied: sympy in c:\\users\\yarok\\appdata\\local\\programs\\python\\python313\\lib\\site-packages (1.13.3)\n",
      "Requirement already satisfied: scipy in c:\\users\\yarok\\appdata\\local\\programs\\python\\python313\\lib\\site-packages (1.15.1)\n",
      "Requirement already satisfied: mpmath<1.4,>=1.1.0 in c:\\users\\yarok\\appdata\\local\\programs\\python\\python313\\lib\\site-packages (from sympy) (1.3.0)\n",
      "Note: you may need to restart the kernel to use updated packages.\n"
     ]
    }
   ],
   "source": [
    "!pip install numpy sympy scipy"
   ]
  },
  {
   "cell_type": "markdown",
   "metadata": {},
   "source": [
    "### python setup.py install"
   ]
  },
  {
   "cell_type": "markdown",
   "metadata": {},
   "source": [
    "## Python Built in Functions\n",
    "\n",
    "| Built in Function | Description |\n",
    "|----|----|\n",
    "|abs()|\tReturns the absolute value of a number|\n",
    "|all()|\tReturns True if all items in an iterable object are true|\n",
    "|any()|\tReturns True if any item in an iterable object is true|\n",
    "|ascii()|\tReturns a readable version of an object. Replaces none-ascii characters with escape character|\n",
    "|bin()|\tReturns the binary version of a number|\n",
    "|bool()|\tReturns the boolean value of the specified object|\n",
    "|bytearray()|\tReturns an array of bytes|\n",
    "|bytes()|\tReturns a bytes object|\n",
    "|callable()|\tReturns True if the specified object is callable, otherwise False|\n",
    "|chr()|\tReturns a character from the specified Unicode code.|\n",
    "|classmethod()|\tConverts a method into a class method|\n",
    "|compile()|\tReturns the specified source as an object, ready to be executed|\n",
    "|complex()|\tReturns a complex number|\n",
    "|delattr()|\tDeletes the specified attribute (property or method) from the specified object|\n",
    "|dict()|\tReturns a dictionary (Array)|\n",
    "|dir()|\tReturns a list of the specified object's properties and methods|\n",
    "|divmod()|\tReturns the quotient and the remainder when argument1 is divided by argument2|\n",
    "|enumerate()|\tTakes a collection (e.g. a tuple) and returns it as an enumerate object|\n",
    "|eval()|\tEvaluates and executes an expression|\n",
    "|exec()|\tExecutes the specified code (or object)|\n",
    "|filter()|\tUse a filter function to exclude items in an iterable object|\n",
    "|float()|\tReturns a floating point number|\n",
    "|format()|\tFormats a specified value|\n",
    "|frozenset()|\tReturns a frozenset object|\n",
    "|getattr()|\tReturns the value of the specified attribute (property or method)|\n",
    "|globals()|\tReturns the current global symbol table as a dictionary|\n",
    "|hasattr()|\tReturns True if the specified object has the specified attribute (property/method)|\n",
    "|hash()|\tReturns the hash value of a specified object|\n",
    "|help()|\tExecutes the built-in help system|\n",
    "|hex()|\tConverts a number into a hexadecimal value|\n",
    "|id()|\tReturns the id of an object|\n",
    "|input()|\tAllowing user input|\n",
    "|int()|\tReturns an integer number|\n",
    "|isinstance()|\tReturns True if a specified object is an instance of a specified object|\n",
    "|issubclass()|\tReturns True if a specified class is a subclass of a specified object|\n",
    "|iter()|\tReturns an iterator object|\n",
    "|len()|\tReturns the length of an object|\n",
    "|list()|\tReturns a list|\n",
    "|locals()|\tReturns an updated dictionary of the current local symbol table|\n",
    "|map()|\tReturns the specified iterator with the specified function applied to each item|\n",
    "|max()|\tReturns the largest item in an iterable|\n",
    "|memoryview()|\tReturns a memory view object|\n",
    "|min()|\tReturns the smallest item in an iterable|\n",
    "|next()|\tReturns the next item in an iterable|\n",
    "|object()|\tReturns a new object|\n",
    "|oct()|\tConverts a number into an octal|\n",
    "|open()|\tOpens a file and returns a file object|\n",
    "|ord()|\tConvert an integer representing the Unicode of the specified character|\n",
    "|pow()|\tReturns the value of x to the power of y|\n",
    "|print()|\tPrints to the standard output device|\n",
    "|property()|\tGets, sets, deletes a property|\n",
    "|range()|\tReturns a sequence of numbers, starting from 0 and increments by 1 (by default)|\n",
    "|repr()|\tReturns a readable version of an object|\n",
    "|reversed()|\tReturns a reversed iterator|\n",
    "|round()|\tRounds a numbers|\n",
    "|set()|\tReturns a new set object|\n",
    "|setattr()|\tSets an attribute (property/method) of an object|\n",
    "|slice()|\tReturns a slice object|\n",
    "|sorted()|\tReturns a sorted list|\n",
    "|staticmethod()|\tConverts a method into a static method|\n",
    "|str()|\tReturns a string object|\n",
    "|sum()|\tSums the items of an iterator|\n",
    "|super()|\tReturns an object that represents the parent class|\n",
    "|tuple()|\tReturns a tuple|\n",
    "|type()|\tReturns the type of an object|\n",
    "|vars()|\tReturns the |__dict__| property of an object|\n",
    "|zip()|\tReturns an iterator, from two or more iterators|\n",
    "|in| Returns true (false) if smth is (or not) in collection|\n",
    "|is| Retuns true (false) if the objects are equal and the same memmory adress|"
   ]
  },
  {
   "cell_type": "markdown",
   "metadata": {},
   "source": [
    "## Cell Magic Function\n",
    "\n",
    "| Cell Magic Function | Description |\n",
    "|---|---|\n",
    "| %%time | Measures the execution time of the entire cell |\n",
    "| %%timeit | Measures the execution time and performs multiple runs for more accurate timing |\n",
    "| %%matplotlib | Enable inline plotting of Matplotlib figures in Jupyter Notebook |\n",
    "| %%bash | Run cells with bash in a subprocess |\n",
    "| %%capture | run the cell, capturing stdout, stderr, and IPython’s rich display() calls |\n",
    "| %%latex | Render the cell as a block of LaTeX |\n",
    "| %%markdown | Render the cell as Markdown text block |\n",
    "| %%svg | Render the cell as an SVG literal |\n",
    "| %%writefile | Write the contents of the cell to a file |"
   ]
  },
  {
   "cell_type": "markdown",
   "metadata": {},
   "source": [
    "## Comments"
   ]
  },
  {
   "cell_type": "markdown",
   "metadata": {},
   "source": [
    "### Singleline Comments\n",
    "`# comments` - comments\n",
    "```python\n",
    "print(\"a=5\") # output\n",
    "```\n",
    "\n",
    "\n",
    "`CTRL + /` - hot key to comment selected lines\n",
    "\n",
    "### Multiline Comments\n",
    "```python\n",
    "'''\n",
    " this construction prints the following text:\n",
    " a=5\n",
    "'''\n",
    "print(\"a=5\")\n",
    "```"
   ]
  },
  {
   "cell_type": "markdown",
   "metadata": {},
   "source": [
    "## Shorcuts"
   ]
  },
  {
   "cell_type": "markdown",
   "metadata": {},
   "source": [
    "`Shift + Enter` run the current cell, select below\n",
    "\n",
    "`Ctrl + Enter` run selected cells\n",
    "\n",
    "`Alt + Enter` run the current cell, insert below\n",
    "\n",
    "`Ctrl + S` save and checkpoint\n",
    "\n",
    "`Up` select cell above\n",
    "\n",
    "`Down` select cell below\n",
    "\n",
    "`Shift + Up` extend selected cells above\n",
    "\n",
    "`Shift + Down` extend selected cells below\n",
    "\n",
    "`A` insert cell above\n",
    "\n",
    "`B` insert cell below\n",
    "\n",
    "`X` cut selected cells\n",
    "\n",
    "`C` copy selected cells\n",
    "\n",
    "`V` paste cells below\n",
    "\n",
    "`Shift + V` paste cells above\n",
    "\n",
    "`D, D` (press the key twice) delete selected cells\n",
    "\n",
    "`Z` undo cell deletion\n",
    "\n",
    "`S` Save and Checkpoint\n",
    "\n",
    "`Y` change the cell type to Code\n",
    "\n",
    "`M` change the cell type to Markdown\n",
    "\n",
    "`P` open the command palette."
   ]
  },
  {
   "cell_type": "markdown",
   "metadata": {},
   "source": [
    "## Debugger\n",
    "\n",
    "A debugger is a tool that helps software developers find and fix errors (bugs) in their programs by allowing them to pause execution at specific points (breakpoints), step through code line-by-line, and examine the values of variables and the program's state"
   ]
  },
  {
   "cell_type": "code",
   "execution_count": 7,
   "metadata": {},
   "outputs": [
    {
     "name": "stdout",
     "output_type": "stream",
     "text": [
      "a = 0\n"
     ]
    }
   ],
   "source": [
    "# Example\n",
    "\n",
    "a = 5\n",
    "b = 7\n",
    "\n",
    "b += a\n",
    "\n",
    "if a != 0:\n",
    "    print(\"a = 0\") \n",
    "else:\n",
    "    print(\"a = 5\")"
   ]
  },
  {
   "cell_type": "markdown",
   "metadata": {},
   "source": [
    "## Other"
   ]
  },
  {
   "cell_type": "code",
   "execution_count": 8,
   "metadata": {},
   "outputs": [],
   "source": [
    "a = [[1, 2, 3],\n",
    "     [4, 5, 6],\n",
    "     [7, 8, 9]]"
   ]
  }
 ],
 "metadata": {
  "kernelspec": {
   "display_name": "Python 3",
   "language": "python",
   "name": "python3"
  },
  "language_info": {
   "codemirror_mode": {
    "name": "ipython",
    "version": 3
   },
   "file_extension": ".py",
   "mimetype": "text/x-python",
   "name": "python",
   "nbconvert_exporter": "python",
   "pygments_lexer": "ipython3",
   "version": "3.13.1"
  }
 },
 "nbformat": 4,
 "nbformat_minor": 2
}
